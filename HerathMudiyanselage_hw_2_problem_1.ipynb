{
 "cells": [
  {
   "cell_type": "markdown",
   "metadata": {},
   "source": [
    "First import all the packages necessary for the program"
   ]
  },
  {
   "cell_type": "code",
   "execution_count": 21,
   "metadata": {
    "collapsed": true
   },
   "outputs": [],
   "source": [
    "import numpy as np               #import numpy package in python\n",
    "from scipy import optimize       #import the optimize module in scipy package\n",
    "import matplotlib.pyplot as plt  #import matplotlib package"
   ]
  },
  {
   "cell_type": "markdown",
   "metadata": {},
   "source": [
    "Next define the function"
   ]
  },
  {
   "cell_type": "code",
   "execution_count": 22,
   "metadata": {
    "collapsed": true
   },
   "outputs": [],
   "source": [
    "def func(x):\n",
    "    return x**2-3*x+2            #define the function"
   ]
  },
  {
   "cell_type": "markdown",
   "metadata": {},
   "source": [
    "Then create a array with 100 line spaces"
   ]
  },
  {
   "cell_type": "code",
   "execution_count": 23,
   "metadata": {
    "collapsed": true
   },
   "outputs": [],
   "source": [
    "x = np.linspace(0,10,100)        # divide into 100 equal space points between 0 and 10"
   ]
  },
  {
   "cell_type": "markdown",
   "metadata": {},
   "source": [
    "Next plot the graph"
   ]
  },
  {
   "cell_type": "code",
   "execution_count": 24,
   "metadata": {},
   "outputs": [
    {
     "data": {
      "image/png": "[encoded data removed]",
      "text/plain": [
       "<matplotlib.figure.Figure at 0x4d9de14f28>"
      ]
     },
     "metadata": {},
     "output_type": "display_data"
    }
   ],
   "source": [
    "plt.plot(x,func(x))                 #plot the function\n",
    "plt.title('$f(x)=x^2-3x+2$')        #title the plot\n",
    "plt.show()                          #dispaly the plot"
   ]
  },
  {
   "cell_type": "markdown",
   "metadata": {},
   "source": [
    "$f(x)=x^2-3x+2=(x-1)(x-2)=0$ \n",
    "\n",
    "Hence the roots are $x=1$ or $x=2$"
   ]
  },
  {
   "cell_type": "markdown",
   "metadata": {},
   "source": [
    "Next find the roots of the functions "
   ]
  },
  {
   "cell_type": "code",
   "execution_count": 25,
   "metadata": {},
   "outputs": [
    {
     "name": "stdout",
     "output_type": "stream",
     "text": [
      "[ 1.  2.]\n"
     ]
    }
   ],
   "source": [
    "print(optimize.fsolve(func,[0,10])) # finding roots using fsolve function "
   ]
  },
  {
   "cell_type": "markdown",
   "metadata": {},
   "source": [
    "$\\frac {df(x)} {dx}=2x-3=0$  \n",
    "\n",
    "$x=1.5$\n",
    "\n",
    "$f(1.5)=1.5^2-3(1.5)+2=-2.5$\n",
    "\n",
    "$(x,y)=(1.5,-2.5)$"
   ]
  },
  {
   "cell_type": "markdown",
   "metadata": {},
   "source": [
    "Finally compute tthe cordinateds of the minimum"
   ]
  },
  {
   "cell_type": "code",
   "execution_count": 26,
   "metadata": {},
   "outputs": [
    {
     "name": "stdout",
     "output_type": "stream",
     "text": [
      "Optimization terminated successfully.\n",
      "         Current function value: -0.250000\n",
      "         Iterations: 26\n",
      "         Function evaluations: 52\n",
      "x  coordinate of the minima : [ 1.5]\n",
      "y  coordinate of the minima : [-0.25]\n"
     ]
    }
   ],
   "source": [
    "min = optimize.fmin(func,0)                        #find the minimum value of x coordiante using fmin function\n",
    "print(\"x  coordinate of the minima :\" ,min )       #print x cordinate\n",
    "print(\"y  coordinate of the minima :\" ,func(min))  #print y coordinate"
   ]
  },
  {
   "cell_type": "code",
   "execution_count": null,
   "metadata": {
    "collapsed": true
   },
   "outputs": [],
   "source": []
  }
 ],
 "metadata": {
  "kernelspec": {
   "display_name": "Python 3",
   "language": "python",
   "name": "python3"
  },
  "language_info": {
   "codemirror_mode": {
    "name": "ipython",
    "version": 3
   },
   "file_extension": ".py",
   "mimetype": "text/x-python",
   "name": "python",
   "nbconvert_exporter": "python",
   "pygments_lexer": "ipython3",
   "version": "3.6.3"
  }
 },
 "nbformat": 4,
 "nbformat_minor": 2
}
