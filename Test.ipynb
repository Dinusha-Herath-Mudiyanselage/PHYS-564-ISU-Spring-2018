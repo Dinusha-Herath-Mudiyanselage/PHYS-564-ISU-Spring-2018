{
 "cells": [
  {
   "cell_type": "markdown",
   "metadata": {
    "collapsed": true
   },
   "source": [
    "$(\\vec{r} = \\vec{r_1} - \\vec{r_2}$), and the CM position vector $(\\vec{R})$"
   ]
  },
  {
   "cell_type": "markdown",
   "metadata": {
    "collapsed": true
   },
   "source": [
    " ${L} = \\frac{1}{2} M \\dot{\\vec{R}}^2 + \\frac{1}{2} \\mu \\dot{\\vec{r}}^2 - U(r) $\n",
    "where $M = m_1 + m_2,$ and $\\mu$ is the reduced mass\n",
    "$ \\mu \\equiv \\frac{m_1 m_2}{m_1 + m_2}. $"
   ]
  },
  {
   "cell_type": "markdown",
   "metadata": {},
   "source": [
    " $\\ddot{\\vec{R}} = 0$, so the motion in $(\\vec{R})$ is very simple"
   ]
  },
  {
   "cell_type": "markdown",
   "metadata": {},
   "source": [
    "$ L_z = \\mu r^2 \\dot{\\phi} = \\textrm{const}. $"
   ]
  },
  {
   "cell_type": "markdown",
   "metadata": {},
   "source": [
    "$ \\mu \\ddot{r} = \\mu r \\dot{\\phi}^2 - \\frac{dU}{dr} = \\frac{L_z^2}{\\mu r^3} - \\frac{dU}{dr}. $"
   ]
  },
  {
   "cell_type": "markdown",
   "metadata": {},
   "source": [
    "$F = -\\nabla U$"
   ]
  },
  {
   "cell_type": "markdown",
   "metadata": {},
   "source": [
    "$\\mu \\ddot{r} = -\\frac{dU_{\\textrm{eff}}}{dr}. $\n",
    "$What is (U_{\\textrm{eff}}$"
   ]
  },
  {
   "cell_type": "markdown",
   "metadata": {},
   "source": [
    "$ \\mathcal{L} = \\frac{1}{2} M \\dot{\\vec{R}}^2 + \\frac{1}{2} \\mu \\dot{\\vec{r}}^2 - \\frac{1}{2} k(r-\\ell)^2.$"
   ]
  },
  {
   "cell_type": "markdown",
   "metadata": {},
   "source": [
    "$ \\mathcal{L} = \\frac{1}{2} \\mu (\\dot{r}^2 + r^2 \\dot{\\phi}^2) - \\frac{1}{2}k(r-\\ell)^2. $"
   ]
  },
  {
   "cell_type": "markdown",
   "metadata": {},
   "source": [
    "$ \\mu \\ddot{r} = \\mu r \\dot{\\phi}^2 - k(r-\\ell) \\\\ \\mu r^2 \\dot{\\phi} = \\textrm{const} = L_z. $"
   ]
  },
  {
   "cell_type": "markdown",
   "metadata": {},
   "source": [
    "$k(r-\\ell) = \\mu r \\omega^2$"
   ]
  },
  {
   "cell_type": "markdown",
   "metadata": {},
   "source": [
    "$U_{\\textrm{eff}} = \\frac{1}{2} k(r-\\ell)^2 + \\frac{L_z^2}{2\\mu r^2}$"
   ]
  },
  {
   "cell_type": "code",
   "execution_count": null,
   "metadata": {
    "collapsed": true
   },
   "outputs": [],
   "source": []
  }
 ],
 "metadata": {
  "kernelspec": {
   "display_name": "Python 3",
   "language": "python",
   "name": "python3"
  },
  "language_info": {
   "codemirror_mode": {
    "name": "ipython",
    "version": 3
   },
   "file_extension": ".py",
   "mimetype": "text/x-python",
   "name": "python",
   "nbconvert_exporter": "python",
   "pygments_lexer": "ipython3",
   "version": "3.6.3"
  }
 },
 "nbformat": 4,
 "nbformat_minor": 2
}
