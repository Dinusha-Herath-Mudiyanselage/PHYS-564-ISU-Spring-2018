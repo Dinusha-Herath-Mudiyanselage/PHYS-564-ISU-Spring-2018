{
 "cells": [
  {
   "cell_type": "markdown",
   "metadata": {},
   "source": [
    "$V_{eff}=\\frac{\\ell^2}{2mr^2}-\\frac{k}{r}+\\frac{h}{r^2}$\n",
    "\n",
    "$F=-\\nabla V$\n",
    "\n",
    "$m\\ddot r=\\frac{\\ell^2}{mr^3}-\\frac{k}{r^2}+\\frac{2h}{r^3}$\n",
    "\n",
    "$m\\ddot r=\\frac{\\ell^2 + 2hm}{mr^3}-\\frac{k}{r^2}$\n",
    "\n",
    "$m\\ddot r=\\frac{\\ell^2 + 2hm +\\frac{mh}{\\ell^2}-\\frac{mh}{\\ell^2}}{mr^3}-\\frac{k}{r^2}$\n",
    "\n",
    "We can neglect $\\frac{mh}{\\ell^2}$ if $mh<<\\ell^2$\n",
    "\n",
    "$m\\ddot r=\\frac{[\\ell +\\frac{mh}{\\ell} ]^2}{mr^3}-\\frac{k}{r^2}$\n",
    "\n",
    "which is just the normal equation of motion for the Kepler problem, but with\n",
    "the angular momentum $L$ with an extra term $\\Delta L = mh/L$"
   ]
  },
  {
   "cell_type": "markdown",
   "metadata": {},
   "source": [
    "Next we know that the angular momentum can be written as\n",
    "\n",
    "$\\ell=mr^2\\dot\\theta$\n",
    "\n",
    "$[\\ell +\\frac{mh}{\\ell} ]^2=\\ell(1+\\frac{mh}{\\ell^2})=mr^2\\dot\\theta(1+\\frac{mh}{\\ell^2})=mr^2\\dot\\theta+mr^2\\dot\\Omega$\n",
    "\n",
    "where $ \\dot\\Omega=\\frac{mh\\dot\\theta}{\\ell^2}=\\frac{2\\pi mh}{\\ell^2 \\tau}$ is a precession frequency"
   ]
  },
  {
   "cell_type": "markdown",
   "metadata": {},
   "source": [
    "$ \\dot\\Omega=(\\frac{2\\pi}{\\tau})(\\frac{m}{\\ell^2})(h)$\n",
    " \n",
    " $ \\dot\\Omega=(\\frac{2\\pi}{\\tau})(\\frac{mka}{\\ell^2})(\\frac{h}{ka})$\n",
    " \n",
    " From $ e = \\sqrt{1+\\frac{2E\\ell^2}{m k^2}}$\n",
    " \n",
    " $\\frac{2E\\ell^2}{m k^2}=e^2-1$ By plugging $E=\\frac{-k}{2a}$\n",
    " \n",
    " $\\frac{\\ell^2}{mka}=1-e^2$ Hence\n",
    " \n",
    " $ \\dot\\Omega=(\\frac{2\\pi}{\\tau})(\\frac{1}{1-e^2})(\\frac{h}{ka})$\n",
    " \n",
    " Now $\\frac{h}{ka}=(1-e^2)\\frac{\\tau \\dot\\Omega}{2\\pi}=(1-e^2)\\tau f$ where $f$ is the precession frequency\n",
    " \n",
    " Now plugging numbers\n",
    " \n",
    " $\\eta=\\frac{h}{ka}=(1-0.206^2)*(0.24 yr^{-1})*40\" \\frac{1^o}{3600\"}*\\frac{1 revolution}{360^o}\\frac{1}{100}yr^{-1}=7*10^{-8}$"
   ]
  },
  {
   "cell_type": "code",
   "execution_count": null,
   "metadata": {
    "collapsed": true
   },
   "outputs": [],
   "source": []
  }
 ],
 "metadata": {
  "kernelspec": {
   "display_name": "Python 3",
   "language": "python",
   "name": "python3"
  },
  "language_info": {
   "codemirror_mode": {
    "name": "ipython",
    "version": 3
   },
   "file_extension": ".py",
   "mimetype": "text/x-python",
   "name": "python",
   "nbconvert_exporter": "python",
   "pygments_lexer": "ipython3",
   "version": "3.6.3"
  }
 },
 "nbformat": 4,
 "nbformat_minor": 2
}
