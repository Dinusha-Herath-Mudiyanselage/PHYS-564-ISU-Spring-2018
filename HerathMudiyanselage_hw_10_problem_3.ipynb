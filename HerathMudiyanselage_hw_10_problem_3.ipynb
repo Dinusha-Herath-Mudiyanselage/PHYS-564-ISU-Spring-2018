{
 "cells": [
  {
   "cell_type": "markdown",
   "metadata": {},
   "source": [
    "$a=\\frac{m\\omega q+ip}{\\sqrt{2m\\omega}}e^{i\\omega t}$\n",
    "\n",
    "$a^*=\\frac{m\\omega q-ip}{\\sqrt{2m\\omega}}e^{-i\\omega t}$\n",
    "\n",
    "Now\n",
    "\n",
    "$\\{a,a^*\\}_{qp}=\\frac{\\partial a}{\\partial q}\\frac{\\partial a^*}{\\partial p}-\\frac{\\partial a}{\\partial p}\\frac{\\partial a^*}{\\partial q}=\\frac{m\\omega}{\\sqrt{2m\\omega}}\\big(\\frac{-i}{\\sqrt{2m\\omega}}\\big)-\\frac{i}{\\sqrt{2m\\omega}}\\frac{m\\omega}{\\sqrt{2m\\omega}}=-\\frac{i}{2}-\\frac{i}{2}=-i$"
   ]
  },
  {
   "cell_type": "markdown",
   "metadata": {},
   "source": [
    "Now let's use the transformation $Q=a$ and $P=\\lambda a^*$"
   ]
  },
  {
   "cell_type": "markdown",
   "metadata": {},
   "source": [
    "$\\{Q,P\\}_{qp}=\\frac{\\partial Q}{\\partial q}\\frac{\\partial P}{\\partial p}-\\frac{\\partial P}{\\partial q}\\frac{\\partial Q}{\\partial p}=\\frac{m\\omega}{\\sqrt{2m\\omega}}\\lambda\\big(\\frac{-i}{\\sqrt{2m\\omega}}\\big)-\\lambda\\frac{m\\omega}{\\sqrt{2m\\omega}}\\big(\\frac{i}{\\sqrt{2m\\omega}}\\big)=-\\lambda\\frac{i}{2}-\\lambda\\frac{i}{2}=-\\lambda i$\n",
    "\n",
    "For the transformation to be canonical $\\{Q,P\\}_{qp}=1,$ if $\\lambda=i\\hspace{5mm}$ $Q=a$ and $P=\\lambda a^*$ is a canonical transformation"
   ]
  },
  {
   "cell_type": "markdown",
   "metadata": {},
   "source": [
    "If $\\lambda =1$ we have\n",
    "\n",
    "$Q=\\frac{m\\omega q+ip}{\\sqrt{2m\\omega}}e^{i\\omega t}$\n",
    "\n",
    "$P=\\frac{im\\omega q+p}{\\sqrt{2m\\omega}}e^{-i\\omega t}$"
   ]
  },
  {
   "cell_type": "markdown",
   "metadata": {},
   "source": [
    "Now\n",
    "\n",
    "$Q+iP=\\frac{ip}{\\sqrt{2m\\omega}}[e^{i\\omega t}+e^{-i\\omega t}]$\n",
    "\n",
    "$\\sqrt{2m\\omega}[Q+iP]=2ip\\cos(\\omega t)$\n",
    "\n",
    "$p=\\frac{\\sqrt{2m\\omega}[Q+iP]}{2i\\cos(\\omega t)}=\\sqrt{\\frac{m\\omega}{2}}\\frac{[P-iQ]}{\\cos(\\omega t)}$\n",
    "\n",
    "Also\n",
    "\n",
    "$Q-iP=\\frac{m\\omega q}{\\sqrt{2m\\omega}}[e^{i\\omega t}-e^{-i\\omega t}]$\n",
    "\n",
    "$\\sqrt{2m\\omega}[Q-iP]=2im\\omega q\\sin(\\omega t)$\n",
    "\n",
    "$q=\\frac{\\sqrt{2m\\omega}[Q-iP]}{2im\\omega\\sin(\\omega t)}=-\\sqrt{\\frac{1}{2m\\omega}}\\frac{[P+iQ]}{\\sin(\\omega t)}$"
   ]
  },
  {
   "cell_type": "markdown",
   "metadata": {},
   "source": [
    "Now\n",
    "\n",
    "$H(p,q)=\\frac{p^2}{2m}+\\frac{1}{2}m\\omega^2q^2$\n",
    "\n",
    "$K(P,Q)=\\frac{1}{2m}\\frac{m\\omega}{2}\\frac{[P-iQ]^2}{\\cos^2(\\omega t)}+\\frac{1}{2}m\\omega^2\\frac{1}{2m\\omega}\\frac{[P+iQ]^2}{\\sin^2(\\omega t)}$\n",
    "\n",
    "$K(P,Q)=\\frac{\\omega}{4}\\frac{[P-iQ]^2}{\\cos^2(\\omega t)}+\\frac{\\omega}{4}\\frac{[P+iQ]^2}{\\sin^2(\\omega t)}$\n",
    "\n",
    "$K(P,Q)=\\frac{\\omega}{4}\\big\\{\\frac{[P^2-Q^2]}{\\cos^2(\\omega t)}-\\frac{2iPQ}{\\cos^2(\\omega t)}+\\frac{[P^2-Q^2]}{\\sin^2(\\omega t)}+\\frac{2iPQ}{\\sin^2(\\omega t)}\\big\\}$\n",
    "\n",
    "$K(P,Q)=\\frac{\\omega}{4}\\big\\{\\frac{[P^2-Q^2]}{\\cos^2(\\omega t)}+\\frac{[P^2-Q^2]}{\\sin^2(\\omega t)}\\big\\}+\\frac{\\omega}{4}\\big\\{\\frac{2iPQ}{\\sin^2(\\omega t)}-\\frac{2iPQ}{\\cos^2(\\omega t)}\\big\\}$"
   ]
  },
  {
   "cell_type": "markdown",
   "metadata": {
    "collapsed": true
   },
   "source": [
    "Now $\\Delta H=\\frac{1}{4}m\\beta q^4$\n",
    "\n",
    "And $<\\Delta H>=\\frac{1}{4}m\\beta <q^4>=\\frac{1}{4}m\\beta \\frac{1}{4m^2\\omega^2}\\frac{4}{3}=\\frac{\\beta}{12m\\omega^2}$"
   ]
  },
  {
   "cell_type": "markdown",
   "metadata": {
    "collapsed": true
   },
   "source": [
    "Now $K+<\\Delta H>=\\frac{\\omega}{4}\\big\\{\\frac{[P^2-Q^2]}{\\cos^2(\\omega t)}+\\frac{[P^2-Q^2]}{\\sin^2(\\omega t)}\\big\\}+\\frac{\\omega}{4}\\big\\{\\frac{2iPQ}{\\sin^2(\\omega t)}-\\frac{2iPQ}{\\cos^2(\\omega t)}\\big\\}+\\frac{\\beta}{12m\\omega^2}$"
   ]
  },
  {
   "cell_type": "markdown",
   "metadata": {},
   "source": [
    "New equations of motion\n",
    "\n",
    "$\\dot Q =  \\frac{\\omega}{4}\\big\\{\\frac{[2P]}{\\cos^2(\\omega t)}+\\frac{[2P]}{\\sin^2(\\omega t)}\\big\\}+\\frac{\\omega}{4}\\big\\{\\frac{2iQ}{\\sin^2(\\omega t)}-\\frac{2iQ}{\\cos^2(\\omega t)}\\big\\}$\n",
    "\n",
    "$\\dot P=\\frac{\\omega}{4}\\big\\{\\frac{[-2Q]}{\\cos^2(\\omega t)}+\\frac{[-2Q]}{\\sin^2(\\omega t)}\\big\\}+\\frac{\\omega}{4}\\big\\{\\frac{2iP}{\\sin^2(\\omega t)}-\\frac{2iP}{\\cos^2(\\omega t)}\\big\\}$"
   ]
  },
  {
   "cell_type": "code",
   "execution_count": null,
   "metadata": {
    "collapsed": true
   },
   "outputs": [],
   "source": []
  }
 ],
 "metadata": {
  "kernelspec": {
   "display_name": "Python 3",
   "language": "python",
   "name": "python3"
  },
  "language_info": {
   "codemirror_mode": {
    "name": "ipython",
    "version": 3
   },
   "file_extension": ".py",
   "mimetype": "text/x-python",
   "name": "python",
   "nbconvert_exporter": "python",
   "pygments_lexer": "ipython3",
   "version": "3.6.3"
  }
 },
 "nbformat": 4,
 "nbformat_minor": 2
}
