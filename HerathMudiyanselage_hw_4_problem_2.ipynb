{
 "cells": [
  {
   "cell_type": "markdown",
   "metadata": {
    "collapsed": true
   },
   "source": [
    "$V_{eff}=\\frac{\\ell^2}{2m r^2}-V_0\\exp(-\\lambda^2 r^2)$\n",
    "\n",
    "$V(z)=\\frac{1}{30z^2}-1*\\exp(-0.1 z^2)$ Here $\\frac{\\ell^2}{2m}=\\frac{1}{30} , V_0=1$ and $\\lambda^2=0.1$"
   ]
  },
  {
   "cell_type": "markdown",
   "metadata": {},
   "source": [
    "First import all the packages nessary for the programm"
   ]
  },
  {
   "cell_type": "code",
   "execution_count": 22,
   "metadata": {
    "collapsed": true
   },
   "outputs": [],
   "source": [
    "import numpy as np               # import numpy package as np\n",
    "import matplotlib.pyplot as plt  #import matplotlib package as plt"
   ]
  },
  {
   "cell_type": "code",
   "execution_count": 23,
   "metadata": {
    "collapsed": true
   },
   "outputs": [],
   "source": [
    "def pot(z):   #define potential\n",
    "    return 1.0/(30*z**2 )- 1.0*np.exp(-0.1*z**2)"
   ]
  },
  {
   "cell_type": "code",
   "execution_count": 31,
   "metadata": {},
   "outputs": [
    {
     "data": {
      "image/png": "[encoded data removed]",
      "text/plain": [
       "<matplotlib.figure.Figure at 0xad2b2cf3c8>"
      ]
     },
     "metadata": {},
     "output_type": "display_data"
    }
   ],
   "source": [
    "x = np.linspace(0.1,10, 1000)\n",
    "plt.plot(x, pot(x))\n",
    "plt.plot(x, 1*np.ones_like(x), '--', label='$E_1$')\n",
    "plt.plot(x, 0*np.ones_like(x), '--', label='$E_2$')\n",
    "plt.plot(x, -0.5*np.ones_like(x), '--', label='$E_3$')\n",
    "plt.plot(x, np.min(pot(x))*np.ones_like(x), '--', label='$E_4$')\n",
    "plt.legend()\n",
    "plt.xlabel('z')\n",
    "plt.ylabel('V(z)')\n",
    "plt.show()"
   ]
  },
  {
   "cell_type": "markdown",
   "metadata": {},
   "source": [
    "$E_1>0$ This is a hyperbolic orbit.\n",
    "\n",
    "$E_2=0$ This is a parabolic orbit which has an escape velocity.\n",
    "\n",
    "$E_3<0$ This is generally an elliptical orbit.\n",
    "\n",
    "$E=V_{eff}(min)$ This is a circular orbit.\n"
   ]
  },
  {
   "cell_type": "markdown",
   "metadata": {},
   "source": [
    "Next calculate the radius at which the circular orbits are possible"
   ]
  },
  {
   "cell_type": "code",
   "execution_count": 32,
   "metadata": {},
   "outputs": [
    {
     "name": "stdout",
     "output_type": "stream",
     "text": [
      "The value of r_min is 0.773873873874\n"
     ]
    }
   ],
   "source": [
    "print('The value of r_min is',x[np.argmin(pot(x))])\n",
    "#np.argmin(pot(x)) function will give the index of the minimum value of array pot(x)\n",
    "#x[np.argmin(pot(x))] will give the x value corresponding to that index"
   ]
  },
  {
   "cell_type": "markdown",
   "metadata": {},
   "source": [
    "For the kepler problem\n",
    "\n",
    "$\\frac{mv^2}{r}=\\frac{GmM}{r^2}$\n",
    "\n",
    "But $\\ell=mrv$\n",
    "\n",
    "Hence $\\frac{\\ell^2}{mr^3}=\\frac{GmM}{r^2}$\n",
    "\n",
    "And $r_0=\\frac{\\ell^2}{Gm^2M}$ this suggests that angular momentum increases with the radius. $\\ell$ can take any value (so as $r_0$ - radius of circular orbits)\n",
    "\n",
    "But for the given potential\n",
    "\n",
    "$\\frac{mv^2}{r}=F=-\\nabla V=2 V_0\\lambda^2r*exp(-\\lambda^2r^2)$\n",
    "\n",
    "$\\frac{\\ell^2}{mr^3}=2 V_0\\lambda^2r*exp(-\\lambda^2r^2)$\n",
    "\n",
    "$\\frac{\\ell^2}{2 m V_0\\lambda^2}= r^4exp(-\\lambda^2r^2)$\n",
    "\n",
    "As $r--> 0 , \\ell-->0$ and as $r-->\\infty , \\ell-->0 $ so there is a maximum value for $\\ell$\n",
    "\n",
    "\n",
    "$\\frac{\\ell^2}{2 m }= 1*0.1*r^4exp(-\\lambda^2r^2)$"
   ]
  },
  {
   "cell_type": "markdown",
   "metadata": {},
   "source": [
    "Lets find the maximum value for the angular momentum"
   ]
  },
  {
   "cell_type": "code",
   "execution_count": 33,
   "metadata": {
    "collapsed": true
   },
   "outputs": [],
   "source": [
    "def max_l(z):\n",
    "    return 0.1*(z**4)*np.exp(-0.1*z**2)"
   ]
  },
  {
   "cell_type": "code",
   "execution_count": 34,
   "metadata": {},
   "outputs": [
    {
     "data": {
      "image/png": "[encoded data removed]",
      "text/plain": [
       "<matplotlib.figure.Figure at 0xad2a1ad1d0>"
      ]
     },
     "metadata": {},
     "output_type": "display_data"
    }
   ],
   "source": [
    "plt.plot(x, max_l(x))\n",
    "plt.xlabel('z')\n",
    "plt.ylabel('(l^2)/(2m)')\n",
    "plt.show()"
   ]
  },
  {
   "cell_type": "markdown",
   "metadata": {},
   "source": [
    "Next calculate maximum angular momentum and corresponding radius"
   ]
  },
  {
   "cell_type": "code",
   "execution_count": 35,
   "metadata": {},
   "outputs": [
    {
     "name": "stdout",
     "output_type": "stream",
     "text": [
      "The maximum value of l^2/(2m) is 5.41340756036\n",
      "The value of r_max is 4.47027027027\n"
     ]
    }
   ],
   "source": [
    "print('The maximum value of l^2/(2m) is',np.max(max_l(x)))\n",
    "print('The value of r_max is',x[np.argmax(max_l(x))])"
   ]
  },
  {
   "cell_type": "markdown",
   "metadata": {},
   "source": [
    "Potential correspong to maximum angular momentum\n",
    "\n",
    "Maximum potential is given by\n",
    "\n",
    "$\\frac{\\ell^2}{2 m*1*0.1*r_{max}^4 }=exp(-\\lambda^2r^2)$ \n",
    "\n",
    "or\n",
    "\n",
    "$exp(-0.1 r_{max}^2)$"
   ]
  },
  {
   "cell_type": "code",
   "execution_count": 36,
   "metadata": {},
   "outputs": [
    {
     "name": "stdout",
     "output_type": "stream",
     "text": [
      "0.135561261164\n",
      "0.135561261164\n"
     ]
    }
   ],
   "source": [
    "print(np.max(max_l(x))/(0.1*x[np.argmax(max_l(x))]**4))\n",
    "print(np.exp(-0.1*x[np.argmax(max_l(x))]**2))"
   ]
  },
  {
   "cell_type": "markdown",
   "metadata": {},
   "source": [
    "From both methods we get the same result"
   ]
  },
  {
   "cell_type": "code",
   "execution_count": null,
   "metadata": {
    "collapsed": true
   },
   "outputs": [],
   "source": []
  }
 ],
 "metadata": {
  "kernelspec": {
   "display_name": "Python 3",
   "language": "python",
   "name": "python3"
  },
  "language_info": {
   "codemirror_mode": {
    "name": "ipython",
    "version": 3
   },
   "file_extension": ".py",
   "mimetype": "text/x-python",
   "name": "python",
   "nbconvert_exporter": "python",
   "pygments_lexer": "ipython3",
   "version": "3.6.3"
  }
 },
 "nbformat": 4,
 "nbformat_minor": 2
}
