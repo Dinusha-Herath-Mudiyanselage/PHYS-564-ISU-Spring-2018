{
 "cells": [
  {
   "cell_type": "code",
   "execution_count": 4,
   "metadata": {},
   "outputs": [
    {
     "name": "stdout",
     "output_type": "stream",
     "text": [
      "[[ 0.+2.j  0.+0.j]\n",
      " [ 0.+0.j  0.-2.j]]\n",
      "[[ 0 -2]\n",
      " [ 2  0]]\n",
      "[[ 0.+0.j  0.+2.j]\n",
      " [ 0.+2.j  0.+0.j]]\n",
      "[[ 0.-2.j  0.+0.j]\n",
      " [ 0.+0.j  0.+2.j]]\n",
      "[[ 0  2]\n",
      " [-2  0]]\n",
      "[[ 0.+0.j  0.-2.j]\n",
      " [ 0.-2.j  0.+0.j]]\n"
     ]
    },
    {
     "data": {
      "text/plain": [
       "array([ 1., -1.])"
      ]
     },
     "execution_count": 4,
     "metadata": {},
     "output_type": "execute_result"
    }
   ],
   "source": [
    "import numpy as np\n",
    "\n",
    "sigma_x = np.array([[0, 1],[ 1, 0]])\n",
    "sigma_y = np.array([[0, -1j],[1j, 0]])\n",
    "sigma_z = np.array([[1, 0],[0, -1]])\n",
    "\n",
    "a=np.dot(sigma_x,sigma_y)-np.dot(sigma_y,sigma_x)\n",
    "b=np.dot(sigma_x,sigma_z)-np.dot(sigma_z,sigma_x)\n",
    "c=np.dot(sigma_y,sigma_z)-np.dot(sigma_z,sigma_y)\n",
    "\n",
    "\n",
    "d=np.dot(sigma_y,sigma_x)-np.dot(sigma_x,sigma_y)\n",
    "e=np.dot(sigma_z,sigma_x)-np.dot(sigma_x,sigma_z)\n",
    "f=np.dot(sigma_z,sigma_y)-np.dot(sigma_y,sigma_z)\n",
    "\n",
    "print(a)\n",
    "print(b)\n",
    "print(c)\n",
    "print(d)\n",
    "print(e)\n",
    "print(f)\n",
    "\n",
    "np.linalg.eigvals(sigma_x)\n",
    "np.linalg.eigvals(sigma_y)\n",
    "np.linalg.eigvals(sigma_z)\n",
    "\n"
   ]
  },
  {
   "cell_type": "code",
   "execution_count": 5,
   "metadata": {
    "collapsed": true
   },
   "outputs": [],
   "source": [
    "def commuator(a,b):\n",
    "    comm = np.dot(a,b)-np.dot(b,a)\n",
    "    return comm"
   ]
  },
  {
   "cell_type": "code",
   "execution_count": 6,
   "metadata": {},
   "outputs": [
    {
     "name": "stdout",
     "output_type": "stream",
     "text": [
      "[[ 0.+2.j  0.+0.j]\n",
      " [ 0.+0.j  0.-2.j]]\n"
     ]
    }
   ],
   "source": [
    "print(commuator(sigma_x,sigma_y))"
   ]
  },
  {
   "cell_type": "code",
   "execution_count": null,
   "metadata": {
    "collapsed": true
   },
   "outputs": [],
   "source": []
  }
 ],
 "metadata": {
  "kernelspec": {
   "display_name": "Python 3",
   "language": "python",
   "name": "python3"
  },
  "language_info": {
   "codemirror_mode": {
    "name": "ipython",
    "version": 3
   },
   "file_extension": ".py",
   "mimetype": "text/x-python",
   "name": "python",
   "nbconvert_exporter": "python",
   "pygments_lexer": "ipython3",
   "version": "3.6.3"
  }
 },
 "nbformat": 4,
 "nbformat_minor": 2
}
