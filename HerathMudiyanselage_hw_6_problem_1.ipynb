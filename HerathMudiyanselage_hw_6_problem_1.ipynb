{
 "cells": [
  {
   "cell_type": "markdown",
   "metadata": {},
   "source": [
    "$\\vec \\omega $ can be considered as consisting of three succesive infinetisimal rotations with angular velocities $\\omega_{\\phi}=\\dot\\phi , \\omega_{\\theta}=\\dot\\theta$ and $\\omega_{\\psi}=\\dot\\psi$\n",
    "\n",
    "$\\vec{\\omega} = \\vec{\\omega_{\\phi}}+\\vec{\\omega_{\\theta}}+\\vec{\\omega_{\\psi}}$\n",
    "\n",
    "Complete transformation $A=BCD$\n",
    "\n",
    "$\n",
    "D=\\left[\\begin{array}{ccc}\n",
    "cos\\phi    &   sin\\phi & 0\\\\\n",
    "-sin\\phi    &   cos\\phi & 0\\\\\n",
    "0 & 0 & 1\\\\\n",
    "\\end{array}\\right]\n",
    ",$\n",
    "\n",
    "\n",
    "$\n",
    "C=\\left[\\begin{array}{ccc}\n",
    "1    &   0 & 0\\\\\n",
    "0    &   cos\\theta & sin\\theta\\\\\n",
    "0 & -sin\\theta & cos\\theta\\\\\n",
    "\\end{array}\\right]\n",
    ",$\n",
    "\n",
    "\n",
    "$\n",
    "B=\\left[\\begin{array}{ccc}\n",
    "cos\\psi    &    sin\\psi & 0\\\\\n",
    "-sin\\psi    &   cos\\psi & 0\\\\\n",
    "0 & 0 & 1\\\\\n",
    "\\end{array}\\right]\n",
    ",$\n",
    "\n",
    "\n",
    "$\n",
    "A=\\left[\\begin{array}{ccc}\n",
    "cos\\psi cos\\phi -cos\\theta sin\\phi sin\\psi   &   cos\\psi sin\\phi +cos\\theta cos\\phi sin\\psi & sin\\psi sin\\theta\\\\\n",
    "-sin\\psi cos\\phi -cos\\theta sin\\phi cos\\psi   &   -sin\\psi sin\\phi +cos\\theta cso\\phi cos\\psi & cos\\psi sin\\theta\\\\\n",
    "sin\\theta sin\\phi & -sin\\theta cos\\phi & cos\\theta\\\\\n",
    "\\end{array}\\right]\n",
    "$"
   ]
  },
  {
   "cell_type": "markdown",
   "metadata": {},
   "source": [
    "Using transformation matrix $A$\n",
    "\n",
    "\n",
    "$\n",
    "\\left[\\begin{array}{ccc}\n",
    "(\\omega_{\\phi})_{x'}\\\\\n",
    "(\\omega_{\\phi})_{y'}\\\\\n",
    "(\\omega_{\\phi})_{z'}\\\\\n",
    "\\end{array}\\right]=\n",
    "$\n",
    "$\n",
    "\\left[\\begin{array}{ccc}\n",
    "cos\\psi cos\\phi -cos\\theta sin\\phi sin\\psi   &   cos\\psi sin\\phi +cos\\theta cos\\phi sin\\psi & sin\\psi sin\\theta\\\\\n",
    "-sin\\psi cos\\phi -cos\\theta sin\\phi cos\\psi   &   -sin\\psi sin\\phi +cos\\theta cso\\phi cos\\psi & cos\\psi sin\\theta\\\\\n",
    "sin\\theta sin\\phi & -sin\\theta cos\\phi & cos\\theta\\\\\n",
    "\\end{array}\\right]\n",
    "$\n",
    "$\n",
    "\\left[\\begin{array}{ccc}\n",
    "0\\\\\n",
    "0\\\\\n",
    "\\dot\\phi\\\\\n",
    "\\end{array}\\right]\n",
    "$"
   ]
  },
  {
   "cell_type": "markdown",
   "metadata": {},
   "source": [
    "From the above transformation we can get\n",
    "\n",
    "$(\\omega_{\\phi})_{x'} = \\dot\\phi sin\\theta sin\\psi$    $     \\hspace{1cm}    $\n",
    "$(\\omega_{\\phi})_{y'} = \\dot\\phi sin\\theta cos\\psi$    $     \\hspace{1cm}     $ and $   \\hspace{1cm}     $\n",
    "$(\\omega_{\\phi})_{z'} = \\dot\\phi cos\\theta$"
   ]
  },
  {
   "cell_type": "markdown",
   "metadata": {},
   "source": [
    "Using transformation matrix $B$\n",
    "\n",
    "$\n",
    "\\left[\\begin{array}{ccc}\n",
    "(\\omega_{\\theta})_{x'}\\\\\n",
    "(\\omega_{\\theta})_{y'}\\\\\n",
    "(\\omega_{\\theta})_{z'}\\\\\n",
    "\\end{array}\\right]=\n",
    "$\n",
    "$\n",
    "\\left[\\begin{array}{ccc}\n",
    "cos\\psi    &    sin\\psi & 0\\\\\n",
    "-sin\\psi    &   cos\\psi & 0\\\\\n",
    "0 & 0 & 1\\\\\n",
    "\\end{array}\\right]\n",
    "$\n",
    "$\n",
    "\\left[\\begin{array}{ccc}\n",
    "\\dot\\theta\\\\\n",
    "0\\\\\n",
    "0\\\\\n",
    "\\end{array}\\right]\n",
    "$"
   ]
  },
  {
   "cell_type": "markdown",
   "metadata": {},
   "source": [
    "$(\\omega_{\\theta})_{x'} = \\dot\\theta cos\\psi$    $     \\hspace{1cm}    $\n",
    "$(\\omega_{\\theta})_{y'} = -\\dot\\theta sin\\psi$    $     \\hspace{1cm}     $ and $   \\hspace{1cm}     $\n",
    "$(\\omega_{\\theta})_{z'} = 0$"
   ]
  },
  {
   "cell_type": "markdown",
   "metadata": {},
   "source": [
    "No transformation is needed for the components of $\\omega_{\\psi}$ which lies along $z'$ axis\n",
    "\n",
    "$(\\omega_{\\psi})_{x'} = 0$    $     \\hspace{1cm}    $\n",
    "$(\\omega_{\\psi})_{y'} = 0$    $     \\hspace{1cm}     $ and $   \\hspace{1cm}     $\n",
    "$(\\omega_{\\psi})_{z'} = \\dot\\psi$"
   ]
  },
  {
   "cell_type": "markdown",
   "metadata": {},
   "source": [
    "Adding these components of seperate angular velocities ,the components of $\\vec{\\omega}$ with respect to the body axes are.\n",
    "\n",
    "$\\omega_{x'}=\\dot\\phi sin\\theta sin\\psi+\\dot\\theta cos\\psi$\n",
    "\n",
    "$\\omega_{y'}=\\dot\\phi sin\\theta cos\\psi-\\dot\\theta sin\\psi$\n",
    "\n",
    "$\\omega_{z'}=\\dot\\phi cos\\theta+\\dot\\psi$"
   ]
  },
  {
   "cell_type": "markdown",
   "metadata": {},
   "source": [
    "Simillarly we can get the space coordinates using the inveser transformation from body coordinates to space coordinates"
   ]
  },
  {
   "cell_type": "markdown",
   "metadata": {},
   "source": [
    "Using transposed (inverse) matrix $A^T$ or $A^{-1}$"
   ]
  },
  {
   "cell_type": "markdown",
   "metadata": {},
   "source": [
    "$\n",
    "\\left[\\begin{array}{ccc}\n",
    "(\\omega_{\\psi})_{x}\\\\\n",
    "(\\omega_{\\psi})_{y}\\\\\n",
    "(\\omega_{\\psi})_{z}\\\\\n",
    "\\end{array}\\right]=\n",
    "$\n",
    "$\n",
    "\\left[\\begin{array}{ccc}\n",
    "cos\\psi cos\\phi -cos\\theta sin\\phi sin\\psi   &  -sin\\psi cos\\phi -cos\\theta sin\\phi cos\\psi  & sin\\theta sin\\phi \\\\\n",
    "cos\\psi sin\\phi +cos\\theta cos\\phi sin\\psi   &   -sin\\psi sin\\phi +cos\\theta cso\\phi cos\\psi & -sin\\theta cos\\phi\\\\\n",
    "sin\\psi sin\\theta  & cos\\psi sin\\theta & cos\\theta\\\\\n",
    "\\end{array}\\right]\n",
    "$\n",
    "$\n",
    "\\left[\\begin{array}{ccc}\n",
    "0\\\\\n",
    "0\\\\\n",
    "\\dot\\psi\\\\\n",
    "\\end{array}\\right]\n",
    "$"
   ]
  },
  {
   "cell_type": "markdown",
   "metadata": {},
   "source": [
    "From the above transformation we can get\n",
    "\n",
    "$(\\omega_{\\psi})_{x} = \\dot\\psi sin\\theta sin\\phi$    $     \\hspace{1cm}    $\n",
    "$(\\omega_{\\psi})_{y} = -\\dot\\psi sin\\theta cos\\phi$    $     \\hspace{1cm}     $ and $   \\hspace{1cm}     $\n",
    "$(\\omega_{\\psi})_{z} = \\dot\\psi cos\\theta$"
   ]
  },
  {
   "cell_type": "markdown",
   "metadata": {},
   "source": [
    "Using transposed matrix $D^T$\n",
    "\n",
    "$\n",
    "\\left[\\begin{array}{ccc}\n",
    "(\\omega_{\\theta})_{x}\\\\\n",
    "(\\omega_{\\theta})_{y}\\\\\n",
    "(\\omega_{\\theta})_{z}\\\\\n",
    "\\end{array}\\right]=\n",
    "$\n",
    "$\n",
    "\\left[\\begin{array}{ccc}\n",
    "cos\\phi    &   -sin\\phi & 0\\\\\n",
    "sin\\phi    &   cos\\phi & 0\\\\\n",
    "0 & 0 & 1\\\\\n",
    "\\end{array}\\right]\n",
    "$\n",
    "$\n",
    "\\left[\\begin{array}{ccc}\n",
    "\\dot\\theta\\\\\n",
    "0\\\\\n",
    "0\\\\\n",
    "\\end{array}\\right]\n",
    "$"
   ]
  },
  {
   "cell_type": "markdown",
   "metadata": {},
   "source": [
    "$(\\omega_{\\theta})_{x} = \\dot\\theta cos\\phi$    $     \\hspace{1cm}    $\n",
    "$(\\omega_{\\theta})_{y} = \\dot\\theta sin\\phi$    $     \\hspace{1cm}     $ and $   \\hspace{1cm}     $\n",
    "$(\\omega_{\\theta})_{z} = 0$"
   ]
  },
  {
   "cell_type": "markdown",
   "metadata": {},
   "source": [
    "No transformation is needed for the components of $\\omega_{\\phi}$ which lies along $z$ axis\n",
    "\n",
    "$(\\omega_{\\phi})_{x} = 0$    $     \\hspace{1cm}    $\n",
    "$(\\omega_{\\phi})_{y} = 0$    $     \\hspace{1cm}     $ and $   \\hspace{1cm}     $\n",
    "$(\\omega_{\\phi})_{z} = \\dot\\phi$"
   ]
  },
  {
   "cell_type": "markdown",
   "metadata": {},
   "source": [
    "Adding these components of seperate angular velocities ,the components of $\\vec{\\omega}$ with respect to the space axes are.\n",
    "\n",
    "$\\omega_{x}=\\dot\\theta cos\\phi+\\dot\\psi sin\\theta sin\\phi$\n",
    "\n",
    "$\\omega_{y}=\\dot\\theta sin\\phi-\\dot\\psi sin\\theta cos\\phi$\n",
    "\n",
    "$\\omega_{z}=\\dot\\phi+\\dot\\psi cos\\theta$"
   ]
  },
  {
   "cell_type": "markdown",
   "metadata": {
    "collapsed": true
   },
   "source": [
    "It is given that $A=BCD$\n",
    "\n",
    "Hence $A^{-1}=D^{-1}C^{-1}B^{-1}$\n",
    "\n",
    "$\\frac{dA^{-1}}{dt}=\\frac{dD^{-1}}{dt}C^{-1}B^{-1}+D^{-1}\\frac{dC^{-1}}{dt}B^{-1}+D^{-1}C^{-1}\\frac{dB^{-1}}{dt}$\n",
    "\n",
    "$\\frac{dA^{-1}}{dt}A=(\\frac{dD^{-1}}{dt}C^{-1}B^{-1}+D^{-1}\\frac{dC^{-1}}{dt}B^{-1}+D^{-1}C^{-1}\\frac{dB^{-1}}{dt})*BCD$\n",
    "\n",
    "$\\frac{dA^{-1}}{dt}A=\\frac{dD^{-1}}{dt}D+D^{-1}\\frac{dC^{-1}}{dt}CD+D^{-1}C^{-1}\\frac{dB^{-1}}{dt}BCD$ \n",
    "\n",
    "$\\frac{dA^{-1}}{dt}A=\\frac{dD^{-1}}{dt}D+\\frac{dC^{-1}}{dt}C+\\frac{dB^{-1}}{dt}B$ $\\hspace{1cm}$since $\\hspace{1cm}$ $B^{-1}B=C^{-1}C=D^{-1}D=I $"
   ]
  },
  {
   "cell_type": "markdown",
   "metadata": {},
   "source": [
    "Now,\n",
    "\n",
    "$\\frac{dD^{-1}}{dt}D=$\n",
    "$\n",
    "\\left[\\begin{array}{ccc}\n",
    "-sin\\phi   &   -cos\\phi & 0\\\\\n",
    "cos\\phi    &   -sin\\phi & 0\\\\\n",
    "0 & 0 & 0\\\\\n",
    "\\end{array}\\right]\n",
    "$\n",
    "$\n",
    "\\left[\\begin{array}{ccc}\n",
    "cos\\phi    &   sin\\phi & 0\\\\\n",
    "-sin\\phi    &   cos\\phi & 0\\\\\n",
    "0 & 0 & 1\\\\\n",
    "\\end{array}\\right]\n",
    "$\n",
    "$\n",
    "=\\left[\\begin{array}{ccc}\n",
    "0    &  -1 & 0\\\\\n",
    "1    &   0 & 0\\\\\n",
    "0 & 0 & 0\\\\\n",
    "\\end{array}\\right]\n",
    "=T_3$\n",
    "\n",
    "$\\frac{dC^{-1}}{dt}C=$\n",
    "$\n",
    "\\left[\\begin{array}{ccc}\n",
    "0  &   0 & 0\\\\\n",
    "0    &   -sin\\theta & -cos\\theta\\\\\n",
    "0 & cos\\theta & -sin\\theta\\\\\n",
    "\\end{array}\\right]\n",
    "$\n",
    "$\n",
    "\\left[\\begin{array}{ccc}\n",
    "1    &   0 & 0\\\\\n",
    "0    &   cos\\theta & sin\\theta\\\\\n",
    "0 & -sin\\theta & cos\\theta\\\\\n",
    "\\end{array}\\right]\n",
    "$\n",
    "$\n",
    "=\\left[\\begin{array}{ccc}\n",
    "0    &  0 & 0\\\\\n",
    "0   &   0 & -1\\\\\n",
    "0 & 1 & 0\\\\\n",
    "\\end{array}\\right]\n",
    "=T_1$\n",
    "\n",
    "$\\frac{dB^{-1}}{dt}B=$\n",
    "$\n",
    "\\left[\\begin{array}{ccc}\n",
    "-sin\\psi    &    -cos\\psi & 0\\\\\n",
    "cos\\psi    &   -sin\\psi & 0\\\\\n",
    "0 & 0 & 0\\\\\n",
    "\\end{array}\\right]\n",
    "$\n",
    "$\n",
    "\\left[\\begin{array}{ccc}\n",
    "cos\\psi    &    sin\\psi & 0\\\\\n",
    "-sin\\psi    &   cos\\psi & 0\\\\\n",
    "0 & 0 & 1\\\\\n",
    "\\end{array}\\right]\n",
    "$\n",
    "$\n",
    "=\\left[\\begin{array}{ccc}\n",
    "0    &  -1 & 0\\\\\n",
    "1    &   0 & 0\\\\\n",
    "0 & 0 & 0\\\\\n",
    "\\end{array}\\right]\n",
    "=T_3$"
   ]
  },
  {
   "cell_type": "code",
   "execution_count": null,
   "metadata": {
    "collapsed": true
   },
   "outputs": [],
   "source": []
  }
 ],
 "metadata": {
  "kernelspec": {
   "display_name": "Python 3",
   "language": "python",
   "name": "python3"
  },
  "language_info": {
   "codemirror_mode": {
    "name": "ipython",
    "version": 3
   },
   "file_extension": ".py",
   "mimetype": "text/x-python",
   "name": "python",
   "nbconvert_exporter": "python",
   "pygments_lexer": "ipython3",
   "version": "3.6.3"
  }
 },
 "nbformat": 4,
 "nbformat_minor": 2
}
