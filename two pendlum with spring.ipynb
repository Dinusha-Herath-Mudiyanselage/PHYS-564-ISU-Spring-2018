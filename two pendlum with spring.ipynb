{
 "cells": [
  {
   "cell_type": "code",
   "execution_count": 66,
   "metadata": {
    "collapsed": true
   },
   "outputs": [],
   "source": [
    "import numpy as np\n",
    "import matplotlib.pyplot as plt\n",
    "from scipy.integrate import odeint\n",
    "import normal_modes as nm"
   ]
  },
  {
   "cell_type": "code",
   "execution_count": 67,
   "metadata": {
    "collapsed": true
   },
   "outputs": [],
   "source": [
    "def t_mat(m):\n",
    "    \n",
    "    return np.diag([m,m])"
   ]
  },
  {
   "cell_type": "code",
   "execution_count": 68,
   "metadata": {
    "collapsed": true
   },
   "outputs": [],
   "source": [
    "def t_inv_mat(m):\n",
    "   \n",
    "    return np.diag([1.0/m, 1.0/m])"
   ]
  },
  {
   "cell_type": "code",
   "execution_count": 69,
   "metadata": {
    "collapsed": true
   },
   "outputs": [],
   "source": [
    "g=9.8\n",
    "l=10\n",
    "\n",
    "def v_mat(m,k):\n",
    "  \n",
    "    return np.array([[m*g/l+k,-k], [-k,m*g/l+k]])"
   ]
  },
  {
   "cell_type": "code",
   "execution_count": 70,
   "metadata": {
    "collapsed": true
   },
   "outputs": [],
   "source": [
    "def fun(y, t, m,  k):\n",
    "    \n",
    "    w = -np.dot(t_inv_mat(m), np.dot(v_mat(m,k), y[2:]))\n",
    "    \n",
    "    return np.concatenate([w[:], y[:2]])"
   ]
  },
  {
   "cell_type": "code",
   "execution_count": 71,
   "metadata": {
    "collapsed": true
   },
   "outputs": [],
   "source": [
    "def sol(y_0, t, m, k):\n",
    "    \n",
    "    return odeint(fun, y_0, t, args=(m, k))"
   ]
  },
  {
   "cell_type": "code",
   "execution_count": 72,
   "metadata": {
    "collapsed": true
   },
   "outputs": [],
   "source": [
    "m = 1\n",
    "k = 4\n",
    "t_end = 20.0\n",
    "delt = 12.0\n",
    "num_points = 400\n",
    "\n",
    "y_0 = np.array([0.0, 0.0,1.0,2.0])"
   ]
  },
  {
   "cell_type": "code",
   "execution_count": 73,
   "metadata": {
    "collapsed": true
   },
   "outputs": [],
   "source": [
    "time = np.linspace(0.0, t_end, num_points)"
   ]
  },
  {
   "cell_type": "code",
   "execution_count": 74,
   "metadata": {},
   "outputs": [],
   "source": [
    "soln = sol(y_0, time, m, k)"
   ]
  },
  {
   "cell_type": "code",
   "execution_count": 75,
   "metadata": {},
   "outputs": [],
   "source": [
    "wn = nm.NormalModes(t_mat(m), v_mat(m,k))"
   ]
  },
  {
   "cell_type": "code",
   "execution_count": 76,
   "metadata": {},
   "outputs": [
    {
     "name": "stdout",
     "output_type": "stream",
     "text": [
      "frequencies are [ 0.98994949  2.99666481]\n"
     ]
    }
   ],
   "source": [
    "print('frequencies are', wn.omega)"
   ]
  },
  {
   "cell_type": "code",
   "execution_count": 77,
   "metadata": {},
   "outputs": [
    {
     "data": {
      "image/png": "[encoded data removed]",
      "text/plain": [
       "<matplotlib.figure.Figure at 0xede19f2eb8>"
      ]
     },
     "metadata": {},
     "output_type": "display_data"
    }
   ],
   "source": [
    "for ind in range(2):\n",
    "    plt.subplot(221 + 2*ind)\n",
    "    plt.plot(time, soln[:, 2 + ind])\n",
    "    plt.ylabel(r'$q_%d$'%ind, rotation=0)\n",
    "    plt.ylim([-3, 3])\n",
    "    plt.xticks([])\n",
    "    if ind==0:\n",
    "        plt.title(r'$q-$coordinates')\n",
    "plt.xticks(np.arange(0.0, t_end + 1, delt))\n",
    "plt.xlabel('time')\n",
    "for ind in range(2):\n",
    "    plt.subplot(221 + 2*ind + 1)\n",
    "    soln_norm = wn.original_2_normal(soln[:, 2:].T).T    \n",
    "    plt.plot(time, soln_norm[:, ind])\n",
    "    plt.ylabel(r'$\\xi_%d$'%ind, rotation=0)\n",
    "    plt.ylim([-3, 3])\n",
    "    plt.xticks([])\n",
    "    if ind==0:\n",
    "        plt.title(r'normal-coordinates')\n",
    "plt.xticks(np.arange(0.0, t_end + 1, delt))\n",
    "plt.xlabel('time')\n",
    "plt.show()"
   ]
  },
  {
   "cell_type": "code",
   "execution_count": null,
   "metadata": {
    "collapsed": true
   },
   "outputs": [],
   "source": []
  }
 ],
 "metadata": {
  "kernelspec": {
   "display_name": "Python 3",
   "language": "python",
   "name": "python3"
  },
  "language_info": {
   "codemirror_mode": {
    "name": "ipython",
    "version": 3
   },
   "file_extension": ".py",
   "mimetype": "text/x-python",
   "name": "python",
   "nbconvert_exporter": "python",
   "pygments_lexer": "ipython3",
   "version": "3.6.3"
  }
 },
 "nbformat": 4,
 "nbformat_minor": 2
}
