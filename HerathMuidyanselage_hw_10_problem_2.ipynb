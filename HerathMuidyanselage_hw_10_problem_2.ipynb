{
 "cells": [
  {
   "cell_type": "markdown",
   "metadata": {},
   "source": [
    "The given Hamiltonian\n",
    "\n",
    "$H(p,q)=\\frac{p^2}{2m}+\\frac{m\\omega_0^2q^2}{2}+\\lambda\\big(\\frac{p^2}{2m}+\\frac{m\\omega_0^2q^2}{2}\\big)$\n",
    "\n",
    "The equations of motion are\n",
    "\n",
    "$\\dot q=\\frac{\\partial H}{\\partial p}=\\frac{p}{m}+2\\lambda\\big(\\frac{p^2}{2m}+\\frac{m\\omega_0^2q^2}{2}\\big)\\big(\\frac{p}{m}\\big)=\\frac{p}{m}\\big[1+\\lambda\\big(\\frac{p^2}{m}+m\\omega_0^2q^2\\big)\\big]$\n",
    "\n",
    "$-\\dot p=\\frac{\\partial H}{\\partial q}=m\\omega_0^2q+2\\lambda\\big(\\frac{p^2}{2m}+\\frac{m\\omega_0^2q^2}{2}\\big)\\big(m\\omega_0^2q\\big)=m\\omega_0^2q\\big[1+\\lambda\\big(\\frac{p^2}{m}+m\\omega_0^2q^2\\big)\\big]$"
   ]
  },
  {
   "cell_type": "markdown",
   "metadata": {
    "collapsed": true
   },
   "source": [
    "By looking at the soultion we can immediately write\n",
    "\n",
    "$\\frac{\\dot qm}{p}=\\frac{-\\dot p}{m\\omega_0^2q} \\Rightarrow \\dot q q m^2\\omega_0^2+p\\dot p=0$"
   ]
  },
  {
   "cell_type": "markdown",
   "metadata": {},
   "source": [
    "Now\n",
    "\n",
    "$\\ddot q=\\frac{\\dot p}{m}\\big[1+\\lambda\\big(\\frac{p^2}{m}+m\\omega_0^2q^2\\big)\\big]\\big[\\lambda\\big(\\frac{2p\\dot p}{m}+2m\\omega_0^2q\\dot q\\big)\\big]$\n",
    "\n",
    "Using the above equation we can see that $\\ddot q=0$\n",
    "\n",
    "Hence $q=At^2+Bt+C$"
   ]
  },
  {
   "cell_type": "markdown",
   "metadata": {},
   "source": [
    "Similarly $p=Dt^2+Et+F$"
   ]
  },
  {
   "cell_type": "markdown",
   "metadata": {},
   "source": [
    "Now $F_2(q,P)=qP+aq^3P+bqP^3$\n",
    "\n",
    "$F_2(q,P)=P(At^2+Bt+C)+a(At^2+Bt+C)^3P+b(At^2+Bt+C)P^3$"
   ]
  },
  {
   "cell_type": "markdown",
   "metadata": {
    "collapsed": true
   },
   "source": [
    "New Hamiltonian\n",
    "\n",
    "$H(p,q)=\\frac{p^2}{2m}+\\frac{m\\omega_0^2q^2}{2}+\\beta q^4$"
   ]
  },
  {
   "cell_type": "markdown",
   "metadata": {},
   "source": [
    "Equations of motion are\n",
    "\n",
    "$\\dot q=\\frac{p}{m}$ and $-\\dot p= m\\omega_0^2q+4\\beta q^3$"
   ]
  },
  {
   "cell_type": "markdown",
   "metadata": {},
   "source": [
    "So\n",
    "\n",
    "$\\ddot q=-m\\omega_0^2q-4\\beta q^3$"
   ]
  },
  {
   "cell_type": "code",
   "execution_count": null,
   "metadata": {
    "collapsed": true
   },
   "outputs": [],
   "source": []
  }
 ],
 "metadata": {
  "kernelspec": {
   "display_name": "Python 3",
   "language": "python",
   "name": "python3"
  },
  "language_info": {
   "codemirror_mode": {
    "name": "ipython",
    "version": 3
   },
   "file_extension": ".py",
   "mimetype": "text/x-python",
   "name": "python",
   "nbconvert_exporter": "python",
   "pygments_lexer": "ipython3",
   "version": "3.6.3"
  }
 },
 "nbformat": 4,
 "nbformat_minor": 2
}
