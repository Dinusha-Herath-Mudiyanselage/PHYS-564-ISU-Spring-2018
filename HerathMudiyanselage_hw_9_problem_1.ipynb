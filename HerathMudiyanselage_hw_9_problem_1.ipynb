{
 "cells": [
  {
   "cell_type": "markdown",
   "metadata": {},
   "source": [
    "Whe have the parabolic coordinates $(u,v,\\phi)$ as\n",
    "\n",
    "$x=\\sqrt{uv}\\cos(\\phi)$\n",
    "\n",
    "$y=\\sqrt{uv}\\sin(\\phi)$\n",
    "\n",
    "$z=\\frac{1}{2}(u-v)$"
   ]
  },
  {
   "cell_type": "markdown",
   "metadata": {},
   "source": [
    "Now we can get the time derivates as follows\n",
    "\n",
    "$\\dot x=\\frac{1}{2}\\sqrt{\\frac{v}{u}}\\dot u \\cos(\\phi)+\\frac{1}{2}\\sqrt{\\frac{u}{v}}\\dot v \\cos(\\phi)-\\sqrt{uv}\\sin(\\phi)\\dot  \\phi$\n",
    "\n",
    "$\\dot y=\\frac{1}{2}\\sqrt{\\frac{v}{u}}\\dot u \\sin(\\phi)+\\frac{1}{2}\\sqrt{\\frac{u}{v}}\\dot v \\sin(\\phi)+\\sqrt{uv}\\cos(\\phi)\\dot  \\phi$\n",
    "\n",
    "$\\dot z=\\frac{1}{2}(\\dot u-\\dot v)$"
   ]
  },
  {
   "cell_type": "markdown",
   "metadata": {},
   "source": [
    "The kinetic enery of the system can be written as\n",
    "\n",
    "$T=\\frac{1}{2}m\\big[\\dot x^2+\\dot y^2+\\dot z^2\\big]$\n",
    "\n",
    "$T=\\frac{1}{2}m\\big[\\frac{1}{4}\\frac{u}{v}\\dot v^2+\\frac{1}{4}\\frac{v}{u}\\dot u^2+\\frac{1}{2}\\dot u \\dot v + uv\\dot \\phi^2+\\frac{1}{4}(\\dot u- \\dot v)^2\\big]$\n",
    "\n",
    "$T=\\frac{1}{2}m\\big[\\frac{1}{4}\\frac{u}{v}\\dot v^2+\\frac{1}{4}\\frac{v}{u}\\dot u^2+\\frac{1}{2}\\dot u \\dot v + uv\\dot \\phi^2+\\frac{1}{4}\\dot u^2+\\frac{1}{4} \\dot v^2-\\frac{1}{2}\\dot u \\dot v\\big]$\n",
    "\n",
    "$T=\\frac{1}{2}m\\big[\\frac{\\dot v^2}{4}\\big(\\frac{u}{v}+1\\big)+\\frac{\\dot u^2}{4}\\big(\\frac{v}{u}+1\\big)+uv\\dot \\phi^2\\big]$\n",
    "\n",
    "$T=\\frac{1}{2}m\\big[\\frac{\\dot v^2}{4v}(u+v)+\\frac{\\dot u^2}{4u}(u+v)+uv\\dot \\phi^2\\big]$"
   ]
  },
  {
   "cell_type": "markdown",
   "metadata": {},
   "source": [
    "Now for the potential energy let's assume there are two terms\n",
    "\n",
    "$V=V(r)+V'(z)$\n",
    "\n",
    "Wherr $V(r)$ is the gravitational potential and $V'(r)$ is the additional potential which comes from the addition force\n",
    "\n",
    "Now we can write $V(z)=\\frac{k}{r}$ and $V'(z)=k'z$\n",
    "\n",
    "BNow we can repalce $r=\\sqrt{x^2+y^2+z^2}=\\sqrt{uv\\cos^2(\\phi)+uv\\sin^2(\\phi)+\\frac{1}{4}(u-  v)^2}$\n",
    "\n",
    "$\\hspace{7.2cm}=\\sqrt{uv+\\frac{1}{4} u^2+\\frac{1}{4} v^2-\\frac{1}{2} u  v}$\n",
    "\n",
    "$\\hspace{7.2cm}=\\sqrt{\\frac{1}{4} (u+v)^2}$\n",
    "\n",
    "$\\hspace{7.2cm}=\\frac{1}{2} (u+v)$"
   ]
  },
  {
   "cell_type": "markdown",
   "metadata": {},
   "source": [
    "Hence $V(\\sqrt{x^2+y^2+z^2})=\\frac{k}{\\sqrt{x^2+y^2+z^2}}=\\frac{2k}{u+v}$\n",
    "\n",
    "Similarly $V'(z)=k'\\frac{1}{2}(u-v)$"
   ]
  },
  {
   "cell_type": "markdown",
   "metadata": {},
   "source": [
    "Now the lagragian and hamiltonian for the system can be written as\n",
    "\n",
    "$L=T-V=\\frac{1}{2}m\\big[\\frac{\\dot v^2}{4v}(u+v)+\\frac{\\dot u^2}{4u}(u+v)+uv\\dot \\phi^2\\big]-\\frac{2k}{u+v}-\\frac{k'}{2}(u-v)$\n",
    "\n",
    "$H=T+V=\\frac{1}{2}m\\big[\\frac{\\dot v^2}{4v}(u+v)+\\frac{\\dot u^2}{4u}(u+v)+uv\\dot \\phi^2\\big]+\\frac{2k}{u+v}+\\frac{k'}{2}(u-v)$"
   ]
  },
  {
   "cell_type": "markdown",
   "metadata": {},
   "source": [
    "Now $p_u=\\frac{\\partial L}{\\partial \\dot u}=\\frac{m}{4u}\\dot u (u+v)$\n",
    "\n",
    "$p_v=\\frac{\\partial L}{\\partial \\dot v}=\\frac{m}{4v}\\dot v (u+v)$\n",
    "\n",
    "$p_{\\phi}=\\frac{\\partial L}{\\partial \\dot \\phi}=muv\\dot \\phi$"
   ]
  },
  {
   "cell_type": "markdown",
   "metadata": {},
   "source": [
    "Now we can re write the hamiltonian as\n",
    "\n",
    "$H=\\frac{1}{2m}\\big[\\frac{4u}{(u+v)}p_u^2+\\frac{4v}{(u+v)}p_v^2+\\frac{1}{uv}p_{\\phi}^2\\big]+\\frac{2k}{u+v}+\\frac{k'}{2}(u-v)$"
   ]
  },
  {
   "cell_type": "markdown",
   "metadata": {},
   "source": [
    "$H=\\frac{1}{u+v}\\big[4u \\frac{p_u^2}{2m}+ 4v \\frac{p_v^2}{2m}+2k+\\frac{k'}{2}(u^2-v^2)\\big]+\\frac{1}{2muv}p_{\\phi}^2$"
   ]
  },
  {
   "cell_type": "markdown",
   "metadata": {},
   "source": [
    "Now we have the form\n",
    "\n",
    "$H=\\frac{1}{h(u)+h(v)}\\big[g(u) \\frac{p_u^2}{2m}+ g(v) \\frac{p_v^2}{2m}+f(u)+k(v)\\big]$"
   ]
  },
  {
   "cell_type": "markdown",
   "metadata": {},
   "source": [
    "Now the equations of motion are\n",
    "\n",
    "$\\dot u=\\frac{\\partial H}{\\partial p_u}=\\frac{4u}{u+v}\\frac{p_u}{m}$\n",
    "\n",
    "$\\dot v=\\frac{\\partial H}{\\partial p_v}=\\frac{4v}{u+v}\\frac{p_v}{m}$\n",
    "\n",
    "$\\dot \\phi=\\frac{\\partial H}{\\partial p_{\\phi}}=\\frac{p_{\\phi}}{muv}$\n",
    "\n",
    "$-\\dot p_u=\\frac{\\partial H}{\\partial u}=\\frac{2p_u^2}{m(u+v)}-\\frac{2up_u^2}{m(u+v)^2}+k'u$\n",
    "\n",
    "$-\\dot p_v=\\frac{\\partial H}{\\partial v}=\\frac{2p_v^2}{m(u+v)}-\\frac{2vp_v^2}{m(u+v)^2}-k'v$\n",
    "\n",
    "$-\\dot p_{\\phi}=\\frac{\\partial H}{\\partial \\phi}=0$"
   ]
  },
  {
   "cell_type": "markdown",
   "metadata": {
    "collapsed": true
   },
   "source": [
    "In this problem momentum in $\\phi$ direction is conserved"
   ]
  },
  {
   "cell_type": "markdown",
   "metadata": {
    "collapsed": true
   },
   "source": [
    "And the total energy of the system is conserved"
   ]
  },
  {
   "cell_type": "code",
   "execution_count": null,
   "metadata": {
    "collapsed": true
   },
   "outputs": [],
   "source": []
  }
 ],
 "metadata": {
  "kernelspec": {
   "display_name": "Python 3",
   "language": "python",
   "name": "python3"
  },
  "language_info": {
   "codemirror_mode": {
    "name": "ipython",
    "version": 3
   },
   "file_extension": ".py",
   "mimetype": "text/x-python",
   "name": "python",
   "nbconvert_exporter": "python",
   "pygments_lexer": "ipython3",
   "version": "3.6.3"
  }
 },
 "nbformat": 4,
 "nbformat_minor": 2
}
