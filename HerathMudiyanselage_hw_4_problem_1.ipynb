{
 "cells": [
  {
   "cell_type": "markdown",
   "metadata": {},
   "source": [
    "First import all the packages necessary for the program"
   ]
  },
  {
   "cell_type": "code",
   "execution_count": 73,
   "metadata": {
    "collapsed": true
   },
   "outputs": [],
   "source": [
    "import numpy as np                  #import numpy package\n",
    "import matplotlib.pyplot as plt     #import matplotlib package\n",
    "import orbit_gravity_time as ot     #import the orbit_gravirt_class"
   ]
  },
  {
   "cell_type": "markdown",
   "metadata": {},
   "source": [
    "Define constants"
   ]
  },
  {
   "cell_type": "code",
   "execution_count": 74,
   "metadata": {
    "collapsed": true
   },
   "outputs": [],
   "source": [
    "G = 6.67408e-11    #gravitational constant\n",
    "mass_sun = 1.989e30"
   ]
  },
  {
   "cell_type": "markdown",
   "metadata": {},
   "source": [
    "Define mass, semi major axis,eccentricity and actual period for each planet according to the order mercury, venus, earth, mars, jupiter, saturn, uranus, neptune and pluto."
   ]
  },
  {
   "cell_type": "code",
   "execution_count": 75,
   "metadata": {},
   "outputs": [],
   "source": [
    "planet_name=['Mercury','Venus','Earth','Mars','Jupyter','Saturn','Uranus','Neptune','Pluto']\n",
    "\n",
    "planet_mass =[3.3010e23,4.8673e24,5.9722e24,6.4169e23,1.8981e27,5.6832e26,8.6810e25,1.0241e26,1.3090e22] #mass of each planet\n",
    "\n",
    "semi_major = [57.91e9,108.21e9,149.60e9,227.92e9,778.57e9,1433.53e9,2872.46e9,4495.06e9,5906.38e9] #semi major axis of each planet\n",
    "\n",
    "eccen = [0.20563593,0.00677672,0.01671123,0.0933941,0.04838624,0.05386179,0.04725744,0.00859048,0.2488273] # eccentricity of each planet\n",
    "\n",
    "actual_period = [88.0,224.7,365.2,687.0,4331,10747,30589,59800,90560] #actual orbital period for each planet in earth days.\n"
   ]
  },
  {
   "cell_type": "markdown",
   "metadata": {},
   "source": [
    "First calculate the period using orbit_gravity_time class in dimensionless units and then multiply by the quantity $\\frac{\\ell^3}{\\mu k^2}$ to get the result in units of time\n",
    "\n",
    "We know that $ e = \\sqrt{1+\\frac{2E\\ell^2}{\\mu k^2}}$\n",
    "\n",
    "Now $\\frac{2E\\ell^2}{\\mu k^2}=e^2-1$\n",
    "\n",
    "By plugging $E=\\frac{-k}{2a}$\n",
    "\n",
    "we get $ \\ell^2=a(1-e^2)\\mu k$\n",
    "\n",
    "By pluging this into $\\frac{\\ell^3}{\\mu k^2}$\n",
    "\n",
    "We get $\\frac{\\ell^3}{\\mu k^2}=[a(1-e^2)]^{3/2}\\sqrt{\\frac{\\mu}{k}}$\n",
    "\n",
    "Next by plugging $\\mu=\\frac{mM}{m+m}$ and $k=GMm$ where $m$ is the mass of the planet and $M$ is the mass of Sun\n",
    "\n",
    "$\\frac{\\ell^3}{\\mu k^2}=[a(1-e^2)]^{3/2}\\frac{1}{\\sqrt{G(M+m)}}$\n",
    "    "
   ]
  },
  {
   "cell_type": "code",
   "execution_count": 76,
   "metadata": {},
   "outputs": [
    {
     "name": "stdout",
     "output_type": "stream",
     "text": [
      "The period of Mercury is 6.70387961122 (in dimensionless units) and  87.9596194252 in days and error is 0.0458870168375 %\n",
      "The period of Venus is 6.28361815491 (in dimensionless units) and  224.674402006 in days and error is 0.0113920757997 %\n",
      "The period of Earth is 6.28581823884 (in dimensionless units) and  365.215977267 in days and error is 0.00437493633327 %\n",
      "The period of Mars is 6.36629805908 (in dimensionless units) and  686.794193181 in days and error is 0.0299573244978 %\n",
      "The period of Jupyter is 6.3053156158 (in dimensionless units) and  4334.0348968 in days and error is 0.0700738121565 %\n",
      "The period of Saturn is 6.31062694843 (in dimensionless units) and  10831.8134634 in days and error is 0.789182687331 %\n",
      "The period of Uranus is 6.30429225071 (in dimensionless units) and  30727.3096958 in days and error is 0.45215500937 %\n",
      "The period of Neptune is 6.28388088552 (in dimensionless units) and  60151.3099466 in days and error is 0.587474827054 %\n",
      "The period of Pluto is 6.91538873934 (in dimensionless units) and  90601.4412013 in days and error is 0.0457610438409 %\n"
     ]
    }
   ],
   "source": [
    "for ind,eccentricity in enumerate(eccen): #calcualte period using the orbit_gravity_class for each palnet by iteration \n",
    "    excentricity   = eccen[ind]\n",
    "    ell = ot.OrbitGravity(excentricity) \n",
    "    \n",
    "    period = ell.period*(((semi_major[ind]*(1-eccen[ind]**2))**(1.5))/(np.sqrt(G*(mass_sun+planet_mass[ind]))))/(24*3600)\n",
    "    # convert dimensionless vlaues in to actual time values\n",
    "    \n",
    "    error = 100*np.abs((actual_period[ind]-period)/actual_period[ind]) \n",
    "    # calculate error between the actual data and calculated data\n",
    "    \n",
    "    print('The period of',planet_name[ind],'is',ell.period,'(in dimensionless units) and ',period,'in days and error is',error,'%')\n",
    "    # print the values and associated error\n",
    "    \n",
    "   "
   ]
  },
  {
   "cell_type": "markdown",
   "metadata": {},
   "source": [
    "Lets calculate the periods using the approximation that mass of the planet is less than the mass of sun $m<<M$ "
   ]
  },
  {
   "cell_type": "code",
   "execution_count": 77,
   "metadata": {},
   "outputs": [
    {
     "name": "stdout",
     "output_type": "stream",
     "text": [
      "The period of Mercury is 6.70387961122 (in dimensionless units) and  87.9596267242 in days and error is 0.0458787225058 %\n",
      "The period of Venus is 6.28361815491 (in dimensionless units) and  224.674676907 in days and error is 0.0112697343584 %\n",
      "The period of Earth is 6.28581823884 (in dimensionless units) and  365.216525568 in days and error is 0.00452507350766 %\n",
      "The period of Mars is 6.36629805908 (in dimensionless units) and  686.794303967 in days and error is 0.0299411983612 %\n",
      "The period of Jupyter is 6.3053156158 (in dimensionless units) and  4336.10238548 in days and error is 0.117810793837 %\n",
      "The period of Saturn is 6.31062694843 (in dimensionless units) and  10833.3608482 in days and error is 0.803580982247 %\n",
      "The period of Uranus is 6.30429225071 (in dimensionless units) and  30727.9802359 in days and error is 0.454347105004 %\n",
      "The period of Neptune is 6.28388088552 (in dimensionless units) and  60152.8584675 in days and error is 0.590064326979 %\n",
      "The period of Pluto is 6.91538873934 (in dimensionless units) and  90601.4414994 in days and error is 0.0457613730513 %\n"
     ]
    }
   ],
   "source": [
    "for ind,eccentricity in enumerate(eccen):  #calcualte period using the orbit_gravity_class for each palnet by iteration \n",
    "    excentricity   = eccen[ind]\n",
    "    ell = ot.OrbitGravity(excentricity) \n",
    "    \n",
    "    period = ell.period*(((semi_major[ind]*(1-eccen[ind]**2))**(1.5))/(np.sqrt(G*(mass_sun))))/(24*3600)\n",
    "    # convert dimensionless vlaues in to actual time values\n",
    "    \n",
    "    error = 100*np.abs((actual_period[ind]-period)/actual_period[ind])\n",
    "    # calculate error between the actual data and calculated data\n",
    "    \n",
    "    print('The period of',planet_name[ind],'is',ell.period,'(in dimensionless units) and ',period,'in days and error is',error,'%')\n",
    "    # print the values and associated error"
   ]
  },
  {
   "cell_type": "markdown",
   "metadata": {},
   "source": [
    "From the results it is evident that the values are almost equal. Hence the approximation is valid"
   ]
  },
  {
   "cell_type": "markdown",
   "metadata": {},
   "source": [
    "Lets calculate the period for the moon."
   ]
  },
  {
   "cell_type": "code",
   "execution_count": 78,
   "metadata": {
    "collapsed": true
   },
   "outputs": [],
   "source": [
    "mass_moon = 7.34767309e22\n",
    "actual_period_moon = 27.3\n",
    "eccen_moon = 0.0549\n",
    "semi_major_moon = 0.3844e9"
   ]
  },
  {
   "cell_type": "code",
   "execution_count": 79,
   "metadata": {},
   "outputs": [
    {
     "name": "stdout",
     "output_type": "stream",
     "text": [
      "The period of moon is 6.31169908118 (in dimensionless units) and  27.2849416712 in days and error is 0.0551587134062 %\n"
     ]
    }
   ],
   "source": [
    "excentricity   = eccen_moon\n",
    "ell = ot.OrbitGravity(excentricity) #calcualte period using the orbit_gravity_class of moon\n",
    "    \n",
    "period = ell.period*(((semi_major_moon*(1-eccen_moon**2))**(1.5))/(np.sqrt(G*(mass_moon+planet_mass[2]))))/(24*3600)\n",
    "# convert dimensionless vlaues in to actual time values\n",
    "    \n",
    "error = 100*np.abs((actual_period_moon-period)/actual_period_moon)\n",
    " # calculate error between the actual data and calculated data\n",
    "    \n",
    "print('The period of moon is',ell.period,'(in dimensionless units) and ',period,'in days and error is',error,'%')\n",
    "# print the values and associated error"
   ]
  },
  {
   "cell_type": "markdown",
   "metadata": {},
   "source": [
    "Finally with the approximation mass of earth is larger than mass of moon"
   ]
  },
  {
   "cell_type": "code",
   "execution_count": 72,
   "metadata": {},
   "outputs": [
    {
     "name": "stdout",
     "output_type": "stream",
     "text": [
      "The period of moon is 6.31169908118 (in dimensionless units) and  27.4522736099 in days and error is 0.557778790751 %\n"
     ]
    }
   ],
   "source": [
    "ell = ot.OrbitGravity(excentricity) #calcualte period using the orbit_gravity_class of moon\n",
    "    \n",
    "period = ell.period*(((semi_major_moon*(1-eccen_moon**2))**(1.5))/(np.sqrt(G*(planet_mass[2]))))/(24*3600)\n",
    "# convert dimensionless vlaues in to actual time values\n",
    "    \n",
    "error = 100*np.abs((actual_period_moon-period)/actual_period_moon)\n",
    "# calculate error between the actual data and calculated data\n",
    "    \n",
    "print('The period of moon is',ell.period,'(in dimensionless units) and ',period,'in days and error is',error,'%')\n",
    "# print the values and associated error"
   ]
  },
  {
   "cell_type": "code",
   "execution_count": null,
   "metadata": {
    "collapsed": true
   },
   "outputs": [],
   "source": []
  }
 ],
 "metadata": {
  "kernelspec": {
   "display_name": "Python 3",
   "language": "python",
   "name": "python3"
  },
  "language_info": {
   "codemirror_mode": {
    "name": "ipython",
    "version": 3
   },
   "file_extension": ".py",
   "mimetype": "text/x-python",
   "name": "python",
   "nbconvert_exporter": "python",
   "pygments_lexer": "ipython3",
   "version": "3.6.3"
  }
 },
 "nbformat": 4,
 "nbformat_minor": 2
}
