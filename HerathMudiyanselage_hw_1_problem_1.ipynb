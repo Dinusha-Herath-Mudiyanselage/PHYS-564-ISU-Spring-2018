{
 "cells": [
  {
   "cell_type": "markdown",
   "metadata": {},
   "source": [
    "First the function to calculate the escape velocity is created."
   ]
  },
  {
   "cell_type": "code",
   "execution_count": 1,
   "metadata": {
    "collapsed": true
   },
   "outputs": [],
   "source": [
    "import numpy as np           #import numpy package in Pyhton\n",
    "\n",
    "\n",
    "G = 6.67e-11          #define graviataional constant\n",
    "\n",
    "\n",
    "def escape_velocity(mass, radius):          #define the function to calculate escape velocity...variables are mass and radius.\n",
    "    escp_vel=np.sqrt(2*G*mass/radius)\n",
    "    return escp_vel"
   ]
  },
  {
   "cell_type": "markdown",
   "metadata": {},
   "source": [
    "Next a dictionary is created with the name and mass of each planet."
   ]
  },
  {
   "cell_type": "code",
   "execution_count": 2,
   "metadata": {
    "collapsed": true
   },
   "outputs": [],
   "source": [
    "dict_mass={'Mercury':0.330104e24,'Venus':4.86732e24,'Earth':5.97219e24,'Mars':0.641693e24,\n",
    "               'Jupiter':1898.13e24,'Saturn':568.319e24,'Uranus':86.8103e24,'Neptune':102.410e24,'Pluto':0.01309e24}\n",
    "\n",
    "                            #define the name and mass of palents(in kg) in a dictionary...name of each planet is the key\n",
    "                            # source of data https://ssd.jpl.nasa.gov/?planet_phys_par\n"
   ]
  },
  {
   "cell_type": "markdown",
   "metadata": {},
   "source": [
    "After that a list is created with the radius of each planet."
   ]
  },
  {
   "cell_type": "code",
   "execution_count": 3,
   "metadata": {
    "collapsed": true
   },
   "outputs": [],
   "source": [
    "radius =[2439.7e3,6051.8e3,6371.00e3,3389.50e3,69911e3,58232e3,25362e3,24622e3,1151e3]\n",
    "\n",
    "#define the radius (in m) of each palnet according to the order merccury,venus,earth,mars,jupiter,saturn,uranus,neptune,pluto\n",
    "# source of data https://ssd.jpl.nasa.gov/?planet_phys_par"
   ]
  },
  {
   "cell_type": "markdown",
   "metadata": {},
   "source": [
    "Finally print the required statement with calculated escape velocity for each planet."
   ]
  },
  {
   "cell_type": "code",
   "execution_count": 4,
   "metadata": {},
   "outputs": [
    {
     "name": "stdout",
     "output_type": "stream",
     "text": [
      "Planet  Mercury  has mass 3.30104e+23 kg and escape velocity is 4248.49484015 (m/s)\n",
      "Planet  Venus  has mass 4.86732e+24 kg and escape velocity is 10358.111487 (m/s)\n",
      "Planet  Earth  has mass 5.97219e+24 kg and escape velocity is 11182.5518422 (m/s)\n",
      "Planet  Mars  has mass 6.41693e+23 kg and escape velocity is 5025.43600021 (m/s)\n",
      "Planet  Jupiter  has mass 1.89813e+27 kg and escape velocity is 60182.2103475 (m/s)\n",
      "Planet  Saturn  has mass 5.68319e+26 kg and escape velocity is 36082.2116287 (m/s)\n",
      "Planet  Uranus  has mass 8.68103e+25 kg and escape velocity is 21368.3896413 (m/s)\n",
      "Planet  Neptune  has mass 1.0241e+26 kg and escape velocity is 23555.2346212 (m/s)\n",
      "Planet  Pluto  has mass 1.309e+22 kg and escape velocity is 1231.71456294 (m/s)\n"
     ]
    }
   ],
   "source": [
    "for ind,key in enumerate(dict_mass):                            #iterate the dictionary to print the expected form\n",
    "    print(\"Planet \" , key, \" has mass\" ,(dict_mass[key]),\n",
    "                  \"kg and escape velocity is\", escape_velocity(dict_mass[key],radius[ind]),\"(m/s)\")"
   ]
  },
  {
   "cell_type": "code",
   "execution_count": null,
   "metadata": {
    "collapsed": true
   },
   "outputs": [],
   "source": []
  }
 ],
 "metadata": {
  "kernelspec": {
   "display_name": "Python 3",
   "language": "python",
   "name": "python3"
  },
  "language_info": {
   "codemirror_mode": {
    "name": "ipython",
    "version": 3
   },
   "file_extension": ".py",
   "mimetype": "text/x-python",
   "name": "python",
   "nbconvert_exporter": "python",
   "pygments_lexer": "ipython3",
   "version": "3.6.3"
  }
 },
 "nbformat": 4,
 "nbformat_minor": 2
}
