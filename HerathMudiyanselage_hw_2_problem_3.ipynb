{
 "cells": [
  {
   "cell_type": "markdown",
   "metadata": {},
   "source": [
    "First import all the pacagkes, modules and classes required for the program"
   ]
  },
  {
   "cell_type": "code",
   "execution_count": 1,
   "metadata": {
    "collapsed": true
   },
   "outputs": [],
   "source": [
    "import numpy as np               #import numpy package\n",
    "import matplotlib.pyplot as plt  #import matplotlib package\n",
    "import brachis_c as br           #import brachis_c.py module\n",
    "import class_func as cf          #import the class_func class"
   ]
  },
  {
   "cell_type": "markdown",
   "metadata": {},
   "source": [
    "Next define 3 curves which goes through $(0,0)$ and $(1,-1)$"
   ]
  },
  {
   "cell_type": "markdown",
   "metadata": {},
   "source": [
    "$y=x^2-2x$"
   ]
  },
  {
   "cell_type": "code",
   "execution_count": 2,
   "metadata": {
    "collapsed": true
   },
   "outputs": [],
   "source": [
    "def crv_1(x):\n",
    "    return x**2-2*x             #define curve 01"
   ]
  },
  {
   "cell_type": "markdown",
   "metadata": {},
   "source": [
    "$y=(\\frac{x}{2})^4-\\frac{17}{16}x$"
   ]
  },
  {
   "cell_type": "code",
   "execution_count": 3,
   "metadata": {
    "collapsed": true
   },
   "outputs": [],
   "source": [
    "def crv_2(x):\n",
    "    return (x/2)**4-(17/16)*x   #define curve 02"
   ]
  },
  {
   "cell_type": "markdown",
   "metadata": {},
   "source": [
    "$y=sin(-\\frac{\\pi}{2}x)$"
   ]
  },
  {
   "cell_type": "code",
   "execution_count": 6,
   "metadata": {
    "collapsed": true
   },
   "outputs": [],
   "source": [
    "def crv_3(x):\n",
    "    return np.sin(-np.pi*x/2)   #define curve 03"
   ]
  },
  {
   "cell_type": "markdown",
   "metadata": {},
   "source": [
    "Next plot all three curves"
   ]
  },
  {
   "cell_type": "code",
   "execution_count": 16,
   "metadata": {},
   "outputs": [
    {
     "data": {
      "image/png": "[encoded data removed]",
      "text/plain": [
       "<matplotlib.figure.Figure at 0x10b062376a0>"
      ]
     },
     "metadata": {},
     "output_type": "display_data"
    }
   ],
   "source": [
    "crvs = [crv_1, crv_2, crv_3]          #create a list with 3 cruves\n",
    "intv = np.linspace(0, 1.0, 200)       # create an array with 200 equal spaces points between 0 and 1\n",
    "for crv in crvs:                      #itereat the list to plot the functions\n",
    "    plt.plot(intv, crv(intv))\n",
    "plt.show()                            #display the plots"
   ]
  },
  {
   "cell_type": "markdown",
   "metadata": {},
   "source": [
    "Then define the gradients of each functions "
   ]
  },
  {
   "cell_type": "code",
   "execution_count": 17,
   "metadata": {
    "collapsed": true
   },
   "outputs": [],
   "source": [
    "def crv_1_d(x):\n",
    "    return 2*x-2                              #define the gradient of curve 01\n",
    "\n",
    "def crv_2_d(x):\n",
    "    return (1/4)*x**3-(17/16)                 #define gradient of curve 02\n",
    "\n",
    "def crv_3_d(x):\n",
    "    return np.cos(-np.pi*x/2)*(-np.pi/2)      #define gradient of curve 03"
   ]
  },
  {
   "cell_type": "markdown",
   "metadata": {},
   "source": [
    "Next create objects of curves using the class, class_func"
   ]
  },
  {
   "cell_type": "code",
   "execution_count": 18,
   "metadata": {
    "collapsed": true
   },
   "outputs": [],
   "source": [
    "cls_crv_1 = cf.FuncDevs([crv_1, crv_1_d], '01')    #object of curve 01\n",
    "cls_crv_2 = cf.FuncDevs([crv_2, crv_2_d], '02')    #object of curve 02\n",
    "cls_crv_3 = cf.FuncDevs([crv_3, crv_3_d], '03')    #object of curve 03"
   ]
  },
  {
   "cell_type": "markdown",
   "metadata": {},
   "source": [
    "After that create a list with curve objects"
   ]
  },
  {
   "cell_type": "code",
   "execution_count": 19,
   "metadata": {
    "collapsed": true
   },
   "outputs": [],
   "source": [
    "lst_funcs = [cls_crv_1, cls_crv_2, cls_crv_3]      #list with curve objects"
   ]
  },
  {
   "cell_type": "markdown",
   "metadata": {},
   "source": [
    "Next claculate the time for each curve"
   ]
  },
  {
   "cell_type": "code",
   "execution_count": 20,
   "metadata": {
    "collapsed": true
   },
   "outputs": [],
   "source": [
    "time = np.zeros(3)                    #time array with 3 zeroes\n",
    "time_err = np.zeros(3)                #time error array with three zeores\n",
    "for ind, fc in enumerate(lst_funcs):  #calculate the time using brachis_c.py module for all curves by iterating\n",
    "    tm, tm_err = br.time_end(fc, 1)\n",
    "    time[ind] = tm                    #upadte the values in time array\n",
    "    time_err[ind] = tm_err            #update the values in time error array"
   ]
  },
  {
   "cell_type": "markdown",
   "metadata": {},
   "source": [
    "Finally print the calcuated time values"
   ]
  },
  {
   "cell_type": "code",
   "execution_count": 15,
   "metadata": {},
   "outputs": [
    {
     "name": "stdout",
     "output_type": "stream",
     "text": [
      "curve  01  takes a time = 1.86335618022  with error  2.35516051106e-11\n",
      "curve  02  takes a time = 1.97537467082  with error  5.29354338141e-12\n",
      "curve  03  takes a time = 1.88733759049  with error  7.73076935801e-09\n"
     ]
    }
   ],
   "source": [
    "for ind in range(3):\n",
    "    print('curve ', lst_funcs[ind].name, ' takes a time =', time[ind], ' with error ', time_err[ind]) \n",
    "    \n",
    "#print the time for each curve"
   ]
  },
  {
   "cell_type": "code",
   "execution_count": null,
   "metadata": {
    "collapsed": true
   },
   "outputs": [],
   "source": []
  }
 ],
 "metadata": {
  "kernelspec": {
   "display_name": "Python 3",
   "language": "python",
   "name": "python3"
  },
  "language_info": {
   "codemirror_mode": {
    "name": "ipython",
    "version": 3
   },
   "file_extension": ".py",
   "mimetype": "text/x-python",
   "name": "python",
   "nbconvert_exporter": "python",
   "pygments_lexer": "ipython3",
   "version": "3.6.3"
  }
 },
 "nbformat": 4,
 "nbformat_minor": 2
}
