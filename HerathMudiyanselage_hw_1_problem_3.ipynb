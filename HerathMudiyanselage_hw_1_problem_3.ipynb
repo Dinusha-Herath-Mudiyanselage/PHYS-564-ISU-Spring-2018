{
 "cells": [
  {
   "cell_type": "markdown",
   "metadata": {},
   "source": [
    "First find the values of the Bessel functions of zero order for the frst one hundred integers."
   ]
  },
  {
   "cell_type": "code",
   "execution_count": 1,
   "metadata": {
    "collapsed": true
   },
   "outputs": [],
   "source": [
    "import numpy as np #import the nump package\n",
    "import scipy.special as sp #import the special functions in scipy package\n",
    "a = np.array(sp.jn_zeros(0, 100)) # finding the bessel zeros using the special function and create a array"
   ]
  },
  {
   "cell_type": "markdown",
   "metadata": {},
   "source": [
    "Next print the array to display the computed values."
   ]
  },
  {
   "cell_type": "code",
   "execution_count": 2,
   "metadata": {},
   "outputs": [
    {
     "name": "stdout",
     "output_type": "stream",
     "text": [
      "[   2.40482556    5.52007811    8.65372791   11.79153444   14.93091771\n",
      "   18.07106397   21.21163663   24.35247153   27.49347913   30.63460647\n",
      "   33.77582021   36.91709835   40.05842576   43.19979171   46.34118837\n",
      "   49.4826099    52.62405184   55.76551076   58.90698393   62.04846919\n",
      "   65.1899648    68.33146933   71.4729816    74.61450064   77.75602563\n",
      "   80.89755587   84.03909078   87.18062984   90.32217264   93.46371878\n",
      "   96.60526795   99.74681986  102.88837425  106.02993092  109.17148965\n",
      "  112.31305028  115.45461265  118.59617663  121.73774209  124.87930891\n",
      "  128.02087701  131.16244628  134.30401664  137.44558802  140.58716035\n",
      "  143.72873357  146.87030763  150.01188246  153.15345802  156.29503427\n",
      "  159.43661116  162.57818867  165.71976675  168.86134537  172.0029245\n",
      "  175.14450412  178.2860842   181.42766471  184.56924564  187.71082696\n",
      "  190.85240865  193.9939907   197.13557309  200.27715579  203.41873881\n",
      "  206.56032212  209.7019057   212.84348956  215.98507367  219.12665803\n",
      "  222.26824262  225.40982743  228.55141247  231.6929977   234.83458314\n",
      "  237.97616877  241.11775458  244.25934056  247.40092672  250.54251304\n",
      "  253.68409951  256.82568614  259.96727291  263.10885982  266.25044687\n",
      "  269.39203405  272.53362135  275.67520878  278.81679633  281.95838398\n",
      "  285.09997175  288.24155963  291.38314761  294.52473568  297.66632386\n",
      "  300.80791213  303.94950049  307.09108893  310.23267746  313.37426608]\n"
     ]
    }
   ],
   "source": [
    "print(a) # print the valuess in the array"
   ]
  },
  {
   "cell_type": "markdown",
   "metadata": {},
   "source": [
    "After that compute the sum of all the values"
   ]
  },
  {
   "cell_type": "code",
   "execution_count": 3,
   "metadata": {},
   "outputs": [
    {
     "name": "stdout",
     "output_type": "stream",
     "text": [
      "15786.7245174\n"
     ]
    }
   ],
   "source": [
    "print(np.sum(a)) #np.sum function will compute the sum of all elements in the array"
   ]
  },
  {
   "cell_type": "markdown",
   "metadata": {},
   "source": [
    "Then claculate the value log(2+J0(x))"
   ]
  },
  {
   "cell_type": "code",
   "execution_count": 4,
   "metadata": {
    "collapsed": true
   },
   "outputs": [],
   "source": [
    " b = np.log(a+2)"
   ]
  },
  {
   "cell_type": "markdown",
   "metadata": {},
   "source": [
    "Next print the values in b"
   ]
  },
  {
   "cell_type": "code",
   "execution_count": 5,
   "metadata": {},
   "outputs": [
    {
     "name": "stdout",
     "output_type": "stream",
     "text": [
      "[ 1.48270066  2.01757652  2.36590987  2.62405496  2.8291414   2.99927917\n",
      "  3.14465373  3.27156207  3.38416919  3.48537327  3.57727225  3.6614337\n",
      "  3.73905974  3.81109248  3.87828396  3.94124408  4.0004743   4.0563919\n",
      "  4.10934785  4.15964013  4.2075239   4.25321934  4.29691774  4.33878636\n",
      "  4.3789723   4.41760558  4.45480174  4.49066386  4.52528434  4.55874627\n",
      "  4.59112469  4.62248757  4.65289668  4.68240833  4.71107396  4.73894074\n",
      "  4.76605198  4.79244758  4.81816434  4.84323631  4.86769503  4.89156978\n",
      "  4.91488781  4.93767448  4.95995346  4.9817469   5.00307551  5.02395869\n",
      "  5.04441468  5.0644606   5.08411257  5.10338577  5.12229453  5.14085238\n",
      "  5.15907211  5.17696581  5.19454495  5.21182039  5.22880246  5.24550095\n",
      "  5.26192517  5.278084    5.29398586  5.30963882  5.32505052  5.34022831\n",
      "  5.35517918  5.36990981  5.38442659  5.39873565  5.41284285  5.4267538\n",
      "  5.44047389  5.45400828  5.46736194  5.48053962  5.49354591  5.50638521\n",
      "  5.51906175  5.5315796   5.5439427   5.55615481  5.56821958  5.58014053\n",
      "  5.59192105  5.6035644   5.61507374  5.62645212  5.63770249  5.64882769\n",
      "  5.65983049  5.67071354  5.68147943  5.69213064  5.7026696   5.71309865\n",
      "  5.72342006  5.73363602  5.74374867  5.75376008]\n"
     ]
    }
   ],
   "source": [
    "print(b) #print the array b"
   ]
  },
  {
   "cell_type": "markdown",
   "metadata": {},
   "source": [
    "Finally compute the sum of array b and print its' value"
   ]
  },
  {
   "cell_type": "code",
   "execution_count": 6,
   "metadata": {},
   "outputs": [
    {
     "name": "stdout",
     "output_type": "stream",
     "text": [
      "480.13300672\n"
     ]
    }
   ],
   "source": [
    "print(np.sum(b))"
   ]
  },
  {
   "cell_type": "code",
   "execution_count": null,
   "metadata": {
    "collapsed": true
   },
   "outputs": [],
   "source": []
  }
 ],
 "metadata": {
  "kernelspec": {
   "display_name": "Python 3",
   "language": "python",
   "name": "python3"
  },
  "language_info": {
   "codemirror_mode": {
    "name": "ipython",
    "version": 3
   },
   "file_extension": ".py",
   "mimetype": "text/x-python",
   "name": "python",
   "nbconvert_exporter": "python",
   "pygments_lexer": "ipython3",
   "version": "3.6.3"
  }
 },
 "nbformat": 4,
 "nbformat_minor": 2
}
