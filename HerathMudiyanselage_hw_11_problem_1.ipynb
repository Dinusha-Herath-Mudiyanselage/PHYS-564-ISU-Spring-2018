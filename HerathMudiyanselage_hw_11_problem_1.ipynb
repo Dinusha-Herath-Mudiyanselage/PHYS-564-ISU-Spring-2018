{
 "cells": [
  {
   "cell_type": "markdown",
   "metadata": {},
   "source": [
    "previously we have shown that the hamlitonian for this system is (in homework 9)\n",
    "\n",
    "$H=T+V=\\frac{1}{2}m\\big[\\frac{\\dot v^2}{4v}(u+v)+\\frac{\\dot u^2}{4u}(u+v)+uv\\dot \\phi^2\\big]+\\frac{2k}{u+v}+\\frac{k'}{2}(u-v)$"
   ]
  },
  {
   "cell_type": "markdown",
   "metadata": {},
   "source": [
    "where we have chose that the potentials to be\n",
    "\n",
    "$V=V(r)+V'(z)$\n",
    "\n",
    "Wherr $V(r)$ is the gravitational potential and $V'(r)$ is the additional potential which comes from the addition force\n",
    "\n",
    "Now we can write $V(r)=\\frac{k}{r}$ and $V'(z)=k'z$"
   ]
  },
  {
   "cell_type": "markdown",
   "metadata": {},
   "source": [
    "Using parabolic cordinates\n",
    "\n",
    "Hence $V(\\sqrt{x^2+y^2+z^2})=\\frac{k}{\\sqrt{x^2+y^2+z^2}}=\\frac{2k}{u+v}$\n",
    "\n",
    "Similarly $V'(z)=k'\\frac{1}{2}(u-v)$"
   ]
  },
  {
   "cell_type": "markdown",
   "metadata": {},
   "source": [
    "And we have found that the hamiltonian is in the form\n",
    "\n",
    "$H=\\frac{1}{u+v}\\big[4u \\frac{p_u^2}{2m}+ 4v \\frac{p_v^2}{2m}+2k+\\frac{k'}{2}(u^2-v^2)\\big]+\\frac{1}{2muv}p_{\\phi}^2$"
   ]
  },
  {
   "cell_type": "markdown",
   "metadata": {},
   "source": [
    "To get the Hamilton-Jacobi equation we can write\n",
    "\n",
    "$S(u,v,\\phi,t)=W_u+W_v+W_{\\phi}-Et$ where $E$ is total enrgy"
   ]
  },
  {
   "cell_type": "markdown",
   "metadata": {},
   "source": [
    "$\\frac{\\partial S}{\\partial t}+E=0$\n",
    "\n",
    "\n",
    "$H=E$"
   ]
  },
  {
   "cell_type": "markdown",
   "metadata": {},
   "source": [
    "Also $p_i=\\frac{\\partial W}{\\partial q_i}$"
   ]
  },
  {
   "cell_type": "markdown",
   "metadata": {},
   "source": [
    "Now \n",
    "\n",
    "$\\frac{1}{u+v}\\big[4u \\frac{1}{2m}(\\frac{\\partial W_u}{\\partial u})^2+ 4v \\frac{1}{2m}(\\frac{\\partial W_v}{\\partial v})^2+2k+\\frac{k'}{2}(u^2-v^2)\\big]+\\frac{1}{2muv}(\\frac{\\partial W_{\\phi}}{\\partial \\phi})^2=E$"
   ]
  },
  {
   "cell_type": "markdown",
   "metadata": {
    "collapsed": true
   },
   "source": [
    "Since $\\phi$ is a cyclic coordinate we can directly write\n",
    "\n",
    "$W_{\\phi}=\\alpha_{\\phi}\\phi$\n",
    "\n",
    "where $\\alpha_{\\phi}$ is a constant"
   ]
  },
  {
   "cell_type": "markdown",
   "metadata": {},
   "source": [
    "Now the hamiltonian becomes\n",
    "\n",
    "$\\frac{1}{u+v}\\big[4u \\frac{1}{2m}(\\frac{\\partial W_u}{\\partial u})^2+ 4v \\frac{1}{2m}(\\frac{\\partial W_v}{\\partial v})^2+2k+\\frac{k'}{2}(u^2-v^2)\\big]+\\frac{\\alpha_{\\phi}^2}{2muv}=E$"
   ]
  },
  {
   "cell_type": "markdown",
   "metadata": {},
   "source": [
    "$4u \\frac{1}{2m}(\\frac{\\partial W_u}{\\partial u})^2+ 4v \\frac{1}{2m}(\\frac{\\partial W_v}{\\partial v})^2+2k+\\frac{k'}{2}(u^2-v^2)+\\frac{(u+v)\\alpha_{\\phi}^2}{2muv}=E(u+v)$"
   ]
  },
  {
   "cell_type": "markdown",
   "metadata": {},
   "source": [
    "$4u \\frac{1}{2m}(\\frac{\\partial W_u}{\\partial u})^2+k+\\frac{k'}{2}u^2+\\frac{\\alpha_{\\phi}^2}{2mu}+4v \\frac{1}{2m}(\\frac{\\partial W_v}{\\partial v})^2+k-\\frac{k'}{2}v^2+\\frac{\\alpha_{\\phi}^2}{2mv}=Eu+Ev$"
   ]
  },
  {
   "cell_type": "markdown",
   "metadata": {},
   "source": [
    "From this we can seperate the equation into two other equations\n",
    "\n",
    "$Eu=4u \\frac{1}{2m}(\\frac{\\partial W_u}{\\partial u})^2+k+\\frac{k'}{2}u^2+\\frac{\\alpha_{\\phi}^2}{2mu}$\n",
    "\n",
    "$Ev=4v \\frac{1}{2m}(\\frac{\\partial W_v}{\\partial v})^2+k-\\frac{k'}{2}v^2+\\frac{\\alpha_{\\phi}^2}{2mv}$"
   ]
  },
  {
   "cell_type": "markdown",
   "metadata": {},
   "source": [
    "So\n",
    "\n",
    "$E= \\frac{2}{m}(\\frac{\\partial W_u}{\\partial u})^2+\\frac{k}{u}+\\frac{k'}{2}u+\\frac{\\alpha_{\\phi}^2}{2mu^2}$\n",
    "\n",
    "$E= \\frac{2}{m}(\\frac{\\partial W_v}{\\partial v})^2+\\frac{k}{v}-\\frac{k'}{2}v+\\frac{\\alpha_{\\phi}^2}{2mv^2}$\n",
    "\n",
    "$(\\frac{\\partial W_{\\phi}}{\\partial \\phi})^2=\\alpha_{\\phi}^2$"
   ]
  },
  {
   "cell_type": "markdown",
   "metadata": {},
   "source": [
    "These are the three separable equations."
   ]
  },
  {
   "cell_type": "code",
   "execution_count": null,
   "metadata": {
    "collapsed": true
   },
   "outputs": [],
   "source": []
  }
 ],
 "metadata": {
  "kernelspec": {
   "display_name": "Python 3",
   "language": "python",
   "name": "python3"
  },
  "language_info": {
   "codemirror_mode": {
    "name": "ipython",
    "version": 3
   },
   "file_extension": ".py",
   "mimetype": "text/x-python",
   "name": "python",
   "nbconvert_exporter": "python",
   "pygments_lexer": "ipython3",
   "version": "3.6.3"
  }
 },
 "nbformat": 4,
 "nbformat_minor": 2
}
