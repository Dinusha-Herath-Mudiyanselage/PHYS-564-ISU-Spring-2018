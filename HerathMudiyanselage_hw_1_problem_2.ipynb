{
 "cells": [
  {
   "cell_type": "markdown",
   "metadata": {},
   "source": [
    "First define pauli matrices"
   ]
  },
  {
   "cell_type": "code",
   "execution_count": 1,
   "metadata": {
    "collapsed": true
   },
   "outputs": [],
   "source": [
    "import numpy as np  #import the numpy package\n",
    "\n",
    "sigma_x = np.array([[0, 1],[ 1, 0]])    #define sigma_x\n",
    "sigma_y = np.array([[0, -1j],[1j, 0]])  #define sigma_y\n",
    "sigma_z = np.array([[1, 0],[0, -1]])    #define sigma_z"
   ]
  },
  {
   "cell_type": "markdown",
   "metadata": {},
   "source": [
    "Next create a function to calcuate the commutators for 3 matrices  [sigma_i,sigma_j]"
   ]
  },
  {
   "cell_type": "code",
   "execution_count": 5,
   "metadata": {
    "collapsed": true
   },
   "outputs": [],
   "source": [
    "def commutator(a,b):              #deffine commutator operation in a function.\n",
    "    comm = np.dot(a,b)-np.dot(b,a)\n",
    "    return comm"
   ]
  },
  {
   "cell_type": "markdown",
   "metadata": {},
   "source": [
    "Then create a function to calcuate the anti-commutators for 3 matrices {sigma_i,sigma_j}"
   ]
  },
  {
   "cell_type": "code",
   "execution_count": 6,
   "metadata": {
    "collapsed": true
   },
   "outputs": [],
   "source": [
    "def anticommutator(a,b):                #deffine anticommutator operation in a function.\n",
    "    anti_comm = np.dot(a,b)+np.dot(b,a)\n",
    "    return anti_comm"
   ]
  },
  {
   "cell_type": "markdown",
   "metadata": {},
   "source": [
    "Next print the values using the commutator function"
   ]
  },
  {
   "cell_type": "code",
   "execution_count": 7,
   "metadata": {},
   "outputs": [
    {
     "name": "stdout",
     "output_type": "stream",
     "text": [
      "[[ 0.+2.j  0.+0.j]\n",
      " [ 0.+0.j  0.-2.j]]\n",
      "      \n",
      "[[ 0 -2]\n",
      " [ 2  0]]\n",
      "      \n",
      "[[ 0.+0.j  0.+2.j]\n",
      " [ 0.+2.j  0.+0.j]]\n",
      "      \n",
      "[[ 0.-2.j  0.+0.j]\n",
      " [ 0.+0.j  0.+2.j]]\n",
      "      \n",
      "[[ 0  2]\n",
      " [-2  0]]\n",
      "      \n",
      "[[ 0.+0.j  0.-2.j]\n",
      " [ 0.-2.j  0.+0.j]]\n",
      "      \n",
      "[[0 0]\n",
      " [0 0]]\n",
      "      \n",
      "[[ 0.+0.j  0.+0.j]\n",
      " [ 0.+0.j  0.+0.j]]\n",
      "      \n",
      "[[0 0]\n",
      " [0 0]]\n"
     ]
    }
   ],
   "source": [
    "print(commutator(sigma_x,sigma_y))      #print the value of [sigma_x,sigma_y]\n",
    "print(\"      \")\n",
    "\n",
    "print(commutator(sigma_x,sigma_z))      #print the value of [sigma_x,sigma_z]\n",
    "print(\"      \")\n",
    "\n",
    "print(commutator(sigma_y,sigma_z))      #print the value of [sigma_y,sigma_z]\n",
    "print(\"      \")\n",
    "\n",
    "print(commutator(sigma_y,sigma_x))      #print the value of [sigma_y,sigma_x]\n",
    "print(\"      \")\n",
    "\n",
    "print(commutator(sigma_z,sigma_x))      #print the value of[sigma_z,sigma_x]\n",
    "print(\"      \")\n",
    "\n",
    "print(commutator(sigma_z,sigma_y))      #print the value of[sigma_z,sigma_y]\n",
    "print(\"      \")\n",
    "\n",
    "print(commutator(sigma_x,sigma_x))      #print the value of [sigma_x,sigma_x]\n",
    "print(\"      \")\n",
    "\n",
    "print(commutator(sigma_y,sigma_y))      #print the value of [sigma_y,sigma_y]\n",
    "print(\"      \")\n",
    "\n",
    "print(commutator(sigma_z,sigma_z))      #print the value of [sigma_z,sigma_z]"
   ]
  },
  {
   "cell_type": "markdown",
   "metadata": {},
   "source": [
    "After that print the values using using anticommutator function"
   ]
  },
  {
   "cell_type": "code",
   "execution_count": 8,
   "metadata": {},
   "outputs": [
    {
     "name": "stdout",
     "output_type": "stream",
     "text": [
      "[[ 0.+0.j  0.+0.j]\n",
      " [ 0.+0.j  0.+0.j]]\n",
      "      \n",
      "[[0 0]\n",
      " [0 0]]\n",
      "      \n",
      "[[ 0.+0.j  0.+0.j]\n",
      " [ 0.+0.j  0.+0.j]]\n",
      "      \n",
      "[[ 0.+0.j  0.+0.j]\n",
      " [ 0.+0.j  0.+0.j]]\n",
      "      \n",
      "[[0 0]\n",
      " [0 0]]\n",
      "      \n",
      "[[ 0.+0.j  0.+0.j]\n",
      " [ 0.+0.j  0.+0.j]]\n",
      "      \n",
      "[[2 0]\n",
      " [0 2]]\n",
      "      \n",
      "[[ 2.+0.j  0.+0.j]\n",
      " [ 0.+0.j  2.+0.j]]\n",
      "      \n",
      "[[2 0]\n",
      " [0 2]]\n"
     ]
    }
   ],
   "source": [
    "print(anticommutator(sigma_x,sigma_y))      #print the value of {sigma_x,sigma_y}\n",
    "print(\"      \")\n",
    "\n",
    "print(anticommutator(sigma_x,sigma_z))      #print the value of {sigma_x,sigma_z}\n",
    "print(\"      \")\n",
    "\n",
    "print(anticommutator(sigma_y,sigma_z))      #print the value of {sigma_y,sigma_z}\n",
    "print(\"      \")\n",
    "\n",
    "print(anticommutator(sigma_y,sigma_x))      #print the value of {sigma_y,sigma_x}\n",
    "print(\"      \")\n",
    "\n",
    "print(anticommutator(sigma_z,sigma_x))      #print the value of {sigma_z,sigma_x}\n",
    "print(\"      \")\n",
    "\n",
    "print(anticommutator(sigma_z,sigma_y))      #print the value of {sigma_z,sigma_y}\n",
    "print(\"      \")\n",
    "\n",
    "print(anticommutator(sigma_x,sigma_x))      #print the value of {sigma_x,sigma_x}\n",
    "print(\"      \")\n",
    "\n",
    "print(anticommutator(sigma_y,sigma_y))      #print the value of {sigma_y,sigma_y}\n",
    "print(\"      \")\n",
    "\n",
    "print(anticommutator(sigma_z,sigma_z))      #print the value of {sigma_z,sigma_z}"
   ]
  },
  {
   "cell_type": "markdown",
   "metadata": {},
   "source": [
    "Finally calculate the eignevalues for three pauli matrices"
   ]
  },
  {
   "cell_type": "code",
   "execution_count": 9,
   "metadata": {},
   "outputs": [
    {
     "data": {
      "text/plain": [
       "array([ 1., -1.])"
      ]
     },
     "execution_count": 9,
     "metadata": {},
     "output_type": "execute_result"
    }
   ],
   "source": [
    "np.linalg.eigvals(sigma_x) #compute eigenvalues of sigma_x"
   ]
  },
  {
   "cell_type": "code",
   "execution_count": 10,
   "metadata": {},
   "outputs": [
    {
     "data": {
      "text/plain": [
       "array([ 1.+0.j, -1.+0.j])"
      ]
     },
     "execution_count": 10,
     "metadata": {},
     "output_type": "execute_result"
    }
   ],
   "source": [
    "np.linalg.eigvals(sigma_y) #compute eigenvalues of sigma_y"
   ]
  },
  {
   "cell_type": "code",
   "execution_count": 11,
   "metadata": {},
   "outputs": [
    {
     "data": {
      "text/plain": [
       "array([ 1., -1.])"
      ]
     },
     "execution_count": 11,
     "metadata": {},
     "output_type": "execute_result"
    }
   ],
   "source": [
    "np.linalg.eigvals(sigma_z) #compute eigenvalues of sigma_z"
   ]
  },
  {
   "cell_type": "code",
   "execution_count": null,
   "metadata": {
    "collapsed": true
   },
   "outputs": [],
   "source": []
  }
 ],
 "metadata": {
  "kernelspec": {
   "display_name": "Python 3",
   "language": "python",
   "name": "python3"
  },
  "language_info": {
   "codemirror_mode": {
    "name": "ipython",
    "version": 3
   },
   "file_extension": ".py",
   "mimetype": "text/x-python",
   "name": "python",
   "nbconvert_exporter": "python",
   "pygments_lexer": "ipython3",
   "version": "3.6.3"
  }
 },
 "nbformat": 4,
 "nbformat_minor": 2
}
