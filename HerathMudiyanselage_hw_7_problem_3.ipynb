{
 "cells": [
  {
   "cell_type": "markdown",
   "metadata": {},
   "source": [
    "First let's simulate fast spining top\n",
    "\n",
    "The condition is that $I_3{\\omega_3}^2 >> 4Mgl$ and $I_1$~$I_3$\n",
    "\n",
    "this also means that $a^2>>\\beta$"
   ]
  },
  {
   "cell_type": "markdown",
   "metadata": {},
   "source": [
    "First import all the necessary packages"
   ]
  },
  {
   "cell_type": "code",
   "execution_count": 8,
   "metadata": {
    "collapsed": true
   },
   "outputs": [],
   "source": [
    "import numpy as np\n",
    "import matplotlib.pyplot as plt\n",
    "import symmetric_top as sy\n",
    "import euler_omega as eo\n",
    "from numpy import linalg as la\n",
    "from scipy.integrate import odeint"
   ]
  },
  {
   "cell_type": "markdown",
   "metadata": {},
   "source": [
    "Next define initial conditions"
   ]
  },
  {
   "cell_type": "code",
   "execution_count": 9,
   "metadata": {
    "collapsed": true
   },
   "outputs": [],
   "source": [
    "cond = np.array([[1.0, np.pi/6.0, 1.0, 1.0], #slower top\n",
    "                 [1.0, np.pi/6.0, 2.0, 1.0], #fast top\n",
    "                 [1.0, np.pi/6.0, 3.0, 1.0], #faster top\n",
    "                 [1.0, np.pi/6.0, 4.0, 1.0],\n",
    "                 [1.0, np.pi/6.0, 5.0, 1.0],\n",
    "                 [1.0, np.pi/6.0, 6.0, 1.0]])# much faster top, the value of d_psi_0 increased each time and i_rat is set to 1\n",
    "\n",
    "val=np.zeros((6,2)) #an array to store values"
   ]
  },
  {
   "cell_type": "markdown",
   "metadata": {},
   "source": [
    "Next find the period using the class and approximation"
   ]
  },
  {
   "cell_type": "code",
   "execution_count": 10,
   "metadata": {},
   "outputs": [
    {
     "name": "stdout",
     "output_type": "stream",
     "text": [
      "Motion confined between  0.523598775597  and  1.69074055609\n",
      "Half period is 4.036413861363564\n",
      "The period is 8.072827722727128\n",
      "The period using approximation 6.28318530718\n",
      "The precession frequency 0.5\n",
      "------------------------------------------------\n",
      "Motion confined between  0.523598775598  and  0.706426549056\n",
      "Half period is 2.0171892362970265\n",
      "The period is 4.034378472594053\n",
      "The period using approximation 3.14159265359\n",
      "The precession frequency 0.25\n",
      "------------------------------------------------\n",
      "Motion confined between  0.523598775598  and  0.588473351237\n",
      "Half period is 1.1612224803441\n",
      "The period is 2.3224449606882\n",
      "The period using approximation 2.09439510239\n",
      "The precession frequency 0.166666666667\n",
      "------------------------------------------------\n",
      "Motion confined between  0.523598775598  and  0.557604605726\n",
      "Half period is 0.8309406042756432\n",
      "The period is 1.6618812085512864\n",
      "The period using approximation 1.57079632679\n",
      "The precession frequency 0.125\n",
      "------------------------------------------------\n",
      "Motion confined between  0.523598775598  and  0.544693844575\n",
      "Half period is 0.6510592879864513\n",
      "The period is 1.3021185759729026\n",
      "The period using approximation 1.25663706144\n",
      "The precession frequency 0.1\n",
      "------------------------------------------------\n",
      "Motion confined between  0.523598775598  and  0.538007274766\n",
      "Half period is 0.5365824893096867\n",
      "The period is 1.0731649786193733\n",
      "The period using approximation 1.0471975512\n",
      "The precession frequency 0.0833333333333\n",
      "------------------------------------------------\n"
     ]
    }
   ],
   "source": [
    "for ind in range(0,6):\n",
    "    \n",
    "    beta    = cond[ind,0]\n",
    "    theta_0 = cond[ind,1]\n",
    "    d_psi_0 = cond[ind,2]\n",
    "    i_rat   = cond[ind,3]\n",
    "    \n",
    "    alpha = beta*np.cos(theta_0)\n",
    "    a = i_rat*d_psi_0\n",
    "    b = a*np.cos(theta_0)\n",
    "      \n",
    "    st = sy.SymTopIniCond(alpha, beta, a, b, i_rat)\n",
    "    \n",
    "    val[ind,0]=2*st.t_half\n",
    "    val[ind,1]=np.pi*2/d_psi_0\n",
    "    \n",
    "    print('The period is', 2*st.t_half)\n",
    "    print('The period using approximation',np.pi*2/d_psi_0)\n",
    "    print('The precession frequency',beta/(2*a))\n",
    "    print('------------------------------------------------')"
   ]
  },
  {
   "cell_type": "markdown",
   "metadata": {},
   "source": [
    "With increase in $\\omega_3$ the period values getting closer and the precession values getting lower.\n",
    "\n",
    "The nutation period is given by the approximation\n",
    "\n",
    "$T_n=\\frac{2\\pi I}{I_3\\omega_3}$ if $I$ is almost eqaul to $I_3$\n",
    "\n",
    "$T_n=\\frac{2\\pi }{\\omega_3}$ and precession frequency is given by\n",
    "\n",
    "$\\dot\\psi=\\frac{\\beta}{2a}=\\frac{Mgl}{I_3\\omega_3}$"
   ]
  },
  {
   "cell_type": "markdown",
   "metadata": {},
   "source": [
    "Let's plot the error between actual and approximated values"
   ]
  },
  {
   "cell_type": "code",
   "execution_count": 11,
   "metadata": {},
   "outputs": [
    {
     "data": {
      "image/png": "[encoded data removed]",
      "text/plain": [
       "<matplotlib.figure.Figure at 0x30147a6908>"
      ]
     },
     "metadata": {},
     "output_type": "display_data"
    },
    {
     "data": {
      "image/png": "[encoded data removed]",
      "text/plain": [
       "<matplotlib.figure.Figure at 0x301485fe80>"
      ]
     },
     "metadata": {},
     "output_type": "display_data"
    },
    {
     "name": "stdout",
     "output_type": "stream",
     "text": [
      "[array([[ 8.07282772,  6.28318531],\n",
      "       [ 4.03437847,  3.14159265],\n",
      "       [ 2.32244496,  2.0943951 ],\n",
      "       [ 1.66188121,  1.57079633],\n",
      "       [ 1.30211858,  1.25663706],\n",
      "       [ 1.07316498,  1.04719755]])]\n"
     ]
    }
   ],
   "source": [
    "t = [1,2,3,4,5,6]\n",
    "plt.plot(t,(val[:,0]-val[:,1])) # diference between period values\n",
    "plt.show()\n",
    "\n",
    "plt.plot(t,(val[:,0]-val[:,1])*100/val[:,0])  #precentge error\n",
    "plt.show()\n",
    "\n",
    "\n",
    "print([val])"
   ]
  },
  {
   "cell_type": "markdown",
   "metadata": {},
   "source": [
    "The graph suggests that with increase in $\\omega_3$ the error (difference) between actual and approximated values getting lower.\n",
    "\n",
    "For sufficiently large $\\omega_3$ the approximation is valid"
   ]
  },
  {
   "cell_type": "code",
   "execution_count": null,
   "metadata": {
    "collapsed": true
   },
   "outputs": [],
   "source": []
  }
 ],
 "metadata": {
  "kernelspec": {
   "display_name": "Python 3",
   "language": "python",
   "name": "python3"
  },
  "language_info": {
   "codemirror_mode": {
    "name": "ipython",
    "version": 3
   },
   "file_extension": ".py",
   "mimetype": "text/x-python",
   "name": "python",
   "nbconvert_exporter": "python",
   "pygments_lexer": "ipython3",
   "version": "3.6.3"
  }
 },
 "nbformat": 4,
 "nbformat_minor": 2
}
