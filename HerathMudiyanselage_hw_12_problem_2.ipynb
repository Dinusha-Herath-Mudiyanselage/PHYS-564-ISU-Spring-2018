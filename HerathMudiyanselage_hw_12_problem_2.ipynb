{
 "cells": [
  {
   "cell_type": "markdown",
   "metadata": {},
   "source": [
    "Let's plot the bifurcation map to get the bifurcation points."
   ]
  },
  {
   "cell_type": "code",
   "execution_count": 44,
   "metadata": {
    "collapsed": true
   },
   "outputs": [],
   "source": [
    "import numpy as np\n",
    "import matplotlib.pyplot as plt"
   ]
  },
  {
   "cell_type": "code",
   "execution_count": 45,
   "metadata": {
    "collapsed": true
   },
   "outputs": [],
   "source": [
    "def sin_map(x, a=0.5):\n",
    "    \n",
    "    return a*np.sin(np.pi*x)"
   ]
  },
  {
   "cell_type": "code",
   "execution_count": 46,
   "metadata": {
    "collapsed": true
   },
   "outputs": [],
   "source": [
    "n_iter = 500                 #itteration\n",
    "a = np.linspace(0,1,n_iter)"
   ]
  },
  {
   "cell_type": "code",
   "execution_count": 47,
   "metadata": {
    "collapsed": true
   },
   "outputs": [],
   "source": [
    "ini_val = 0.001\n",
    "\n",
    "    \n",
    "def vals(a):        #function to claculate x value for a specific 'a' value\n",
    "      \n",
    "    x_iter = np.zeros(n_iter)\n",
    "    z = ini_val\n",
    "    \n",
    "    for ind in range(n_iter):\n",
    "        z = sin_map(z, a)\n",
    "        x_iter[ind] = z\n",
    "        \n",
    "    return x_iter\n",
    "\n",
    "\n",
    "\n",
    "def a_vals(a):        #to get 'a' values as the same number of x values\n",
    "    \n",
    "    a_iter = np.zeros(n_iter)\n",
    "    \n",
    "    for ind in range(n_iter):\n",
    "        a_iter[ind]=a\n",
    "        \n",
    "    return a_iter"
   ]
  },
  {
   "cell_type": "code",
   "execution_count": 48,
   "metadata": {},
   "outputs": [
    {
     "name": "stdout",
     "output_type": "stream",
     "text": [
      "0.719438877756\n",
      "0.831663326653\n",
      "0.859719438878\n",
      "0.867735470942\n"
     ]
    }
   ],
   "source": [
    "x=[]\n",
    "a_val=[]\n",
    "\n",
    "for ind in range(n_iter):\n",
    "    x.append(vals(a[ind]))      #generate x values for differnt 'a' values\n",
    "    a_val.append(a_vals(a[ind]))\n",
    "\n",
    "    \n",
    "# birfurcation points by observing x values    \n",
    "print(a[359])\n",
    "print(a[415])\n",
    "print(a[429])\n",
    "print(a[433])"
   ]
  },
  {
   "cell_type": "code",
   "execution_count": 49,
   "metadata": {},
   "outputs": [
    {
     "data": {
      "text/plain": [
       "<matplotlib.collections.PathCollection at 0xaf3736a160>"
      ]
     },
     "execution_count": 49,
     "metadata": {},
     "output_type": "execute_result"
    }
   ],
   "source": [
    "plt.scatter(a_val,x,s =0.0001)"
   ]
  },
  {
   "cell_type": "code",
   "execution_count": 50,
   "metadata": {},
   "outputs": [
    {
     "data": {
      "image/png": "[encoded data removed]",
      "text/plain": [
       "<matplotlib.figure.Figure at 0xaf37347550>"
      ]
     },
     "metadata": {},
     "output_type": "display_data"
    }
   ],
   "source": [
    "plt.show()"
   ]
  },
  {
   "cell_type": "markdown",
   "metadata": {},
   "source": [
    "By observing, bifurcation data "
   ]
  },
  {
   "cell_type": "markdown",
   "metadata": {},
   "source": [
    "$a_2=0.719438877756$\n",
    "\n",
    "$a_4=0.831663326653$\n",
    "\n",
    "$a_6=0.859719438878$\n",
    "\n",
    "$a_8=0.867735470942$\n"
   ]
  },
  {
   "cell_type": "markdown",
   "metadata": {},
   "source": [
    "let's calculate the Feigenbaum constants"
   ]
  },
  {
   "cell_type": "code",
   "execution_count": 51,
   "metadata": {
    "collapsed": true
   },
   "outputs": [],
   "source": [
    "a_1=0.719438877756\n",
    "a_2=0.831663326653\n",
    "a_3=0.859719438878\n",
    "a_4=0.865731462926"
   ]
  },
  {
   "cell_type": "code",
   "execution_count": 52,
   "metadata": {},
   "outputs": [
    {
     "data": {
      "text/plain": [
       "3.9999999998930815"
      ]
     },
     "execution_count": 52,
     "metadata": {},
     "output_type": "execute_result"
    }
   ],
   "source": [
    "(a_2-a_1)/(a_3-a_2)"
   ]
  },
  {
   "cell_type": "code",
   "execution_count": 53,
   "metadata": {},
   "outputs": [
    {
     "data": {
      "text/plain": [
       "4.666666666832947"
      ]
     },
     "execution_count": 53,
     "metadata": {},
     "output_type": "execute_result"
    }
   ],
   "source": [
    "(a_3-a_2)/(a_4-a_3)"
   ]
  },
  {
   "cell_type": "code",
   "execution_count": null,
   "metadata": {
    "collapsed": true
   },
   "outputs": [],
   "source": []
  }
 ],
 "metadata": {
  "kernelspec": {
   "display_name": "Python 3",
   "language": "python",
   "name": "python3"
  },
  "language_info": {
   "codemirror_mode": {
    "name": "ipython",
    "version": 3
   },
   "file_extension": ".py",
   "mimetype": "text/x-python",
   "name": "python",
   "nbconvert_exporter": "python",
   "pygments_lexer": "ipython3",
   "version": "3.6.3"
  }
 },
 "nbformat": 4,
 "nbformat_minor": 2
}
