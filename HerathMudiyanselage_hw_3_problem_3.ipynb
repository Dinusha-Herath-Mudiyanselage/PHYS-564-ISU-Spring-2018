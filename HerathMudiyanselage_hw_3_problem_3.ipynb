{
 "cells": [
  {
   "cell_type": "markdown",
   "metadata": {},
   "source": [
    "Lagragian for the sytem is\n",
    "\n",
    "$L=\\frac{1}{2}m_1\\dot{\\vec r_1}^2+\\frac{1}{2}m_2\\dot{\\vec r_2}^2-\\frac{1}{2}k(|{\\vec r_1}-{\\vec r_2}|-\\ell)^2$\n",
    "\n",
    "Define $M = m_1 + m_2,$ $\\mu$ is the reduced mass $ \\mu \\equiv \\frac{m_1 m_2}{m_1 + m_2}  , {\\vec r}={\\vec r_1}-{\\vec r_2}$ and ${\\vec {R_{cm}}}=\\frac{m_1{\\vec r_1}+m_2{\\vec r_2}}{m_1+m_2}$\n",
    "\n",
    "By plugging ${\\vec r_1}= {\\vec R_{cm}}+\\frac{m_2}{m_1+m_2}{\\vec r}$ and ${\\vec r_2}= {\\vec R_{cm}}-\\frac{m_1}{m_1+m_2}{\\vec r}$ this satisfies ${\\vec r}={\\vec r_1}-{\\vec r_2}$\n",
    "\n",
    "$ L = \\frac{1}{2} M \\dot{\\vec{R_{cm}}}^2 + \\frac{1}{2} \\mu \\dot{\\vec{r}}^2 - \\frac{1}{2} k(r-\\ell)^2.$ "
   ]
  },
  {
   "cell_type": "markdown",
   "metadata": {},
   "source": [
    "Lets convert ${\\vec{r}}$ into spherical coordinates\n",
    "\n",
    "${\\vec{r}}= r\\hat r $\n",
    "\n",
    "$\\dot{\\vec r}=\\dot r \\hat r + r\\frac{d\\hat r}{dt} $ but \n",
    "\n",
    "$\\frac{d\\hat r}{dt}=\\frac{dr}{d\\theta}\\frac{d\\theta}{dt}+\\frac{dr}{d\\phi}\\frac{d\\phi}{dt}=\\dot\\theta\\hat\\theta+sin\\theta\\dot\\phi\\hat\\phi$ since $\\frac{dr}{d\\theta}=\\hat\\theta$ and $\\frac{dr}{d\\phi}=sin\\theta\\hat\\phi$\n",
    "\n",
    "\n",
    "$\\dot{\\vec r} =\\dot r \\hat r+r \\dot\\theta \\hat \\theta+r sin\\theta \\dot \\phi\\hat\\phi$\n",
    "\n",
    "$\\dot {\\vec r}^2=\\dot r^2+r^2\\dot\\theta^2+r^2sin^2\\theta \\dot\\phi^2$\n",
    "\n",
    "\n",
    "$ L =\\frac{1}{2} M \\dot{\\vec{R_{cm}}}^2 + \\frac{1}{2} \\mu [\\dot{r}^2 + r^2 (\\dot{\\theta})^2+r^2 sin^2\\theta(\\dot{\\phi})^2] - \\frac{1}{2}k(r-\\ell)^2. $"
   ]
  },
  {
   "cell_type": "markdown",
   "metadata": {},
   "source": [
    "Lagrange equation\n",
    "\n",
    "$\\frac{d}{dt}(\\frac{\\partial L}{\\partial \\dot q})-\\frac{\\partial L}{\\partial q}=0$\n",
    "\n",
    "$M\\ddot{\\vec{R_{cm}}} = 0$, so the motion in $(\\vec{R_{cm}})$ is very simple"
   ]
  },
  {
   "cell_type": "markdown",
   "metadata": {},
   "source": [
    "$ \\mu [\\ddot{r} -  r (\\dot{\\theta})^2 -rsin^2\\theta(\\dot\\phi)^2]+k(r-\\ell) = 0. $\n",
    "\n",
    "and\n",
    "\n",
    "$\\mu[ r^2\\ddot\\theta-r^2sin\\theta cos\\theta(\\dot\\phi)^2]=0$\n",
    "\n",
    "and\n",
    "\n",
    "$\\mu r^2sin^2\\theta\\ddot\\phi=0$"
   ]
  },
  {
   "cell_type": "code",
   "execution_count": null,
   "metadata": {
    "collapsed": true
   },
   "outputs": [],
   "source": []
  }
 ],
 "metadata": {
  "kernelspec": {
   "display_name": "Python 3",
   "language": "python",
   "name": "python3"
  },
  "language_info": {
   "codemirror_mode": {
    "name": "ipython",
    "version": 3
   },
   "file_extension": ".py",
   "mimetype": "text/x-python",
   "name": "python",
   "nbconvert_exporter": "python",
   "pygments_lexer": "ipython3",
   "version": "3.6.3"
  }
 },
 "nbformat": 4,
 "nbformat_minor": 2
}
