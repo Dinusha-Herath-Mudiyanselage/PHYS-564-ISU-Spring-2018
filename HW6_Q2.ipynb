{
 "cells": [
  {
   "cell_type": "code",
   "execution_count": 19,
   "metadata": {
    "collapsed": true
   },
   "outputs": [],
   "source": [
    "import numpy as np\n",
    "from scipy.integrate import odeint\n",
    "import matplotlib.pyplot as plt\n",
    "from scipy.integrate import simps"
   ]
  },
  {
   "cell_type": "code",
   "execution_count": 3,
   "metadata": {
    "collapsed": true
   },
   "outputs": [],
   "source": [
    "w=(7.292e-5)"
   ]
  },
  {
   "cell_type": "code",
   "execution_count": 4,
   "metadata": {
    "collapsed": true
   },
   "outputs": [],
   "source": [
    "L=9.8/w**2\n",
    "R=6371000\n",
    "g=9.8"
   ]
  },
  {
   "cell_type": "code",
   "execution_count": 5,
   "metadata": {
    "collapsed": true
   },
   "outputs": [],
   "source": [
    "r=R*((w**2)/g)"
   ]
  },
  {
   "cell_type": "code",
   "execution_count": 6,
   "metadata": {
    "collapsed": true
   },
   "outputs": [],
   "source": [
    "t=np.sqrt(2*100/g)*w"
   ]
  },
  {
   "cell_type": "code",
   "execution_count": 7,
   "metadata": {
    "collapsed": true
   },
   "outputs": [],
   "source": [
    "h=100*(w**2)/g\n",
    "psi=42*(np.pi/180)\n",
    "p=psi"
   ]
  },
  {
   "cell_type": "code",
   "execution_count": 8,
   "metadata": {},
   "outputs": [
    {
     "name": "stdout",
     "output_type": "stream",
     "text": [
      "0.00345680474432653 5.425843265306122e-08 0.000329418981399 0.7330382858376184\n"
     ]
    }
   ],
   "source": [
    "print(r,h,t,p)"
   ]
  },
  {
   "cell_type": "code",
   "execution_count": 9,
   "metadata": {
    "collapsed": true
   },
   "outputs": [],
   "source": [
    "def f_int(y, t):\n",
    "    return [y[1],\n",
    "            2*(y[3]*np.sin(p)-y[5]*np.cos(p)),\n",
    "            y[3]\n",
    "            ,(r/2)*np.sin(2*p)-2*np.sin(p)*y[3]\n",
    "            ,y[5]\n",
    "            ,-1+r*np.cos(p)**2+2*np.cos(p)*y[1]] "
   ]
  },
  {
   "cell_type": "code",
   "execution_count": 10,
   "metadata": {
    "collapsed": true
   },
   "outputs": [],
   "source": [
    "y_0 = np.array([0,0,0,0,h,0])"
   ]
  },
  {
   "cell_type": "code",
   "execution_count": 11,
   "metadata": {
    "collapsed": true
   },
   "outputs": [],
   "source": [
    "t = np.linspace(0.0, t, 100)"
   ]
  },
  {
   "cell_type": "code",
   "execution_count": 12,
   "metadata": {},
   "outputs": [
    {
     "name": "stdout",
     "output_type": "stream",
     "text": [
      "[[  0.00000000e+00   0.00000000e+00   0.00000000e+00   0.00000000e+00\n",
      "    5.42584327e-08   0.00000000e+00]\n",
      " [  1.67031764e-17   8.22514127e-12   9.51601001e-15   5.71967907e-09\n",
      "    5.42529072e-08  -3.32111210e-06]\n",
      " [  8.71058137e-17   3.29005643e-11   3.80640078e-14   1.14393327e-08\n",
      "    5.42363309e-08  -6.64222419e-06]\n",
      " [  2.63883077e-16   7.40262693e-11   8.56439121e-14   1.71589608e-08\n",
      "    5.42087037e-08  -9.96333629e-06]\n",
      " [  6.07826420e-16   1.31602256e-10   1.52255629e-13   2.28785635e-08\n",
      "    5.41700256e-08  -1.32844484e-05]\n",
      " [  1.15140834e-15   2.05628524e-10   2.37899107e-13   2.85981406e-08\n",
      "    5.41202966e-08  -1.66055605e-05]\n",
      " [  1.95563522e-15   2.96105074e-10   3.42574254e-13   3.43176924e-08\n",
      "    5.40595168e-08  -1.99266726e-05]\n",
      " [  3.07798166e-15   4.03031906e-10   4.66280979e-13   4.00372186e-08\n",
      "    5.39876860e-08  -2.32477847e-05]\n",
      " [  4.57592230e-15   5.26409019e-10   6.09019193e-13   4.57567194e-08\n",
      "    5.39048044e-08  -2.65688968e-05]\n",
      " [  6.50693172e-15   6.66236413e-10   7.70788809e-13   5.14761947e-08\n",
      "    5.38108719e-08  -2.98900089e-05]\n",
      " [  8.92848457e-15   8.22514088e-10   9.51589736e-13   5.71956445e-08\n",
      "    5.37058885e-08  -3.32111210e-05]\n",
      " [  1.18980554e-14   9.95242044e-10   1.15142189e-12   6.29150689e-08\n",
      "    5.35898543e-08  -3.65322331e-05]\n",
      " [  1.54731189e-14   1.18442028e-09   1.37028517e-12   6.86344678e-08\n",
      "    5.34627691e-08  -3.98533451e-05]\n",
      " [  1.97111497e-14   1.39004880e-09   1.60817950e-12   7.43538413e-08\n",
      "    5.33246331e-08  -4.31744572e-05]\n",
      " [  2.46696223e-14   1.61212760e-09   1.86510478e-12   8.00731892e-08\n",
      "    5.31754462e-08  -4.64955693e-05]\n",
      " [  3.04060114e-14   1.85065668e-09   2.14106093e-12   8.57925117e-08\n",
      "    5.30152084e-08  -4.98166814e-05]\n",
      " [  3.69776481e-14   2.10563603e-09   2.43604786e-12   9.15118088e-08\n",
      "    5.28439197e-08  -5.31377935e-05]\n",
      " [  4.44311020e-14   2.37706567e-09   2.75006550e-12   9.72310803e-08\n",
      "    5.26615801e-08  -5.64589056e-05]\n",
      " [  5.28150971e-14   2.66494559e-09   3.08311376e-12   1.02950326e-07\n",
      "    5.24681897e-08  -5.97800177e-05]\n",
      " [  6.21843713e-14   2.96927579e-09   3.43519257e-12   1.08669547e-07\n",
      "    5.22637484e-08  -6.31011298e-05]\n",
      " [  7.25936623e-14   3.29005627e-09   3.80630184e-12   1.14388742e-07\n",
      "    5.20482562e-08  -6.64222418e-05]\n",
      " [  8.40977078e-14   3.62728703e-09   4.19644149e-12   1.20107912e-07\n",
      "    5.18217131e-08  -6.97433539e-05]\n",
      " [  9.67512455e-14   3.98096807e-09   4.60561143e-12   1.25827056e-07\n",
      "    5.15841191e-08  -7.30644660e-05]\n",
      " [  1.10609013e-13   4.35109939e-09   5.03381158e-12   1.31546175e-07\n",
      "    5.13354742e-08  -7.63855781e-05]\n",
      " [  1.25725748e-13   4.73768099e-09   5.48104185e-12   1.37265268e-07\n",
      "    5.10757785e-08  -7.97066901e-05]\n",
      " [  1.42156189e-13   5.14071286e-09   5.94730215e-12   1.42984336e-07\n",
      "    5.08050319e-08  -8.30278022e-05]\n",
      " [  1.59955073e-13   5.56019502e-09   6.43259241e-12   1.48703378e-07\n",
      "    5.05232344e-08  -8.63489143e-05]\n",
      " [  1.79177138e-13   5.99612745e-09   6.93691254e-12   1.54422395e-07\n",
      "    5.02303860e-08  -8.96700264e-05]\n",
      " [  1.99877121e-13   6.44851017e-09   7.46026245e-12   1.60141387e-07\n",
      "    4.99264867e-08  -9.29911384e-05]\n",
      " [  2.22109760e-13   6.91734316e-09   8.00264205e-12   1.65860353e-07\n",
      "    4.96115366e-08  -9.63122505e-05]\n",
      " [  2.45929794e-13   7.40262643e-09   8.56405128e-12   1.71579293e-07\n",
      "    4.92855356e-08  -9.96333626e-05]\n",
      " [  2.71391959e-13   7.90435998e-09   9.14449003e-12   1.77298208e-07\n",
      "    4.89484836e-08  -1.02954475e-04]\n",
      " [  2.98550993e-13   8.42254381e-09   9.74395822e-12   1.83017098e-07\n",
      "    4.86003808e-08  -1.06275587e-04]\n",
      " [  3.27461635e-13   8.95717792e-09   1.03624558e-11   1.88735962e-07\n",
      "    4.82412272e-08  -1.09596699e-04]\n",
      " [  3.58178622e-13   9.50826230e-09   1.09999826e-11   1.94454800e-07\n",
      "    4.78710226e-08  -1.12917811e-04]\n",
      " [  3.90756691e-13   1.00757970e-08   1.16565386e-11   2.00173614e-07\n",
      "    4.74897672e-08  -1.16238923e-04]\n",
      " [  4.25250580e-13   1.06597819e-08   1.23321237e-11   2.05892401e-07\n",
      "    4.70974608e-08  -1.19560035e-04]\n",
      " [  4.61715027e-13   1.12602171e-08   1.30267379e-11   2.11611163e-07\n",
      "    4.66941036e-08  -1.22881147e-04]\n",
      " [  5.00204770e-13   1.18771026e-08   1.37403810e-11   2.17329900e-07\n",
      "    4.62796955e-08  -1.26202259e-04]\n",
      " [  5.40774547e-13   1.25104384e-08   1.44730529e-11   2.23048612e-07\n",
      "    4.58542366e-08  -1.29523371e-04]\n",
      " [  5.83479095e-13   1.31602244e-08   1.52247536e-11   2.28767297e-07\n",
      "    4.54177267e-08  -1.32844483e-04]\n",
      " [  6.28373151e-13   1.38264608e-08   1.59954830e-11   2.34485958e-07\n",
      "    4.49701660e-08  -1.36165595e-04]\n",
      " [  6.75511454e-13   1.45091474e-08   1.67852409e-11   2.40204593e-07\n",
      "    4.45115544e-08  -1.39486707e-04]\n",
      " [  7.24948741e-13   1.52082843e-08   1.75940274e-11   2.45923202e-07\n",
      "    4.40418919e-08  -1.42807819e-04]\n",
      " [  7.76739751e-13   1.59238714e-08   1.84218423e-11   2.51641786e-07\n",
      "    4.35611785e-08  -1.46128931e-04]\n",
      " [  8.30939220e-13   1.66559089e-08   1.92686856e-11   2.57360345e-07\n",
      "    4.30694142e-08  -1.49450043e-04]\n",
      " [  8.87601886e-13   1.74043966e-08   2.01345571e-11   2.63078878e-07\n",
      "    4.25665991e-08  -1.52771155e-04]\n",
      " [  9.46782487e-13   1.81693346e-08   2.10194568e-11   2.68797385e-07\n",
      "    4.20527330e-08  -1.56092267e-04]\n",
      " [  1.00853576e-12   1.89507228e-08   2.19233846e-11   2.74515867e-07\n",
      "    4.15278161e-08  -1.59413379e-04]\n",
      " [  1.07291645e-12   1.97485614e-08   2.28463404e-11   2.80234324e-07\n",
      "    4.09918483e-08  -1.62734491e-04]\n",
      " [  1.13997928e-12   2.05628502e-08   2.37883241e-11   2.85952755e-07\n",
      "    4.04448296e-08  -1.66055603e-04]\n",
      " [  1.20977900e-12   2.13935893e-08   2.47493356e-11   2.91671161e-07\n",
      "    3.98867601e-08  -1.69376715e-04]\n",
      " [  1.28237034e-12   2.22407787e-08   2.57293749e-11   2.97389541e-07\n",
      "    3.93176396e-08  -1.72697827e-04]\n",
      " [  1.35780805e-12   2.31044183e-08   2.67284418e-11   3.03107896e-07\n",
      "    3.87374683e-08  -1.76018939e-04]\n",
      " [  1.43614685e-12   2.39845082e-08   2.77465363e-11   3.08826225e-07\n",
      "    3.81462461e-08  -1.79340051e-04]\n",
      " [  1.51744149e-12   2.48810484e-08   2.87836584e-11   3.14544529e-07\n",
      "    3.75439730e-08  -1.82661163e-04]\n",
      " [  1.60174670e-12   2.57940389e-08   2.98398078e-11   3.20262807e-07\n",
      "    3.69306491e-08  -1.85982275e-04]\n",
      " [  1.68911722e-12   2.67234796e-08   3.09149846e-11   3.25981060e-07\n",
      "    3.63062742e-08  -1.89303387e-04]\n",
      " [  1.77960779e-12   2.76693706e-08   3.20091886e-11   3.31699288e-07\n",
      "    3.56708485e-08  -1.92624499e-04]\n",
      " [  1.87327315e-12   2.86317119e-08   3.31224197e-11   3.37417490e-07\n",
      "    3.50243719e-08  -1.95945611e-04]\n",
      " [  1.97016804e-12   2.96105035e-08   3.42546780e-11   3.43135666e-07\n",
      "    3.43668444e-08  -1.99266723e-04]\n",
      " [  2.07034718e-12   3.06057454e-08   3.54059632e-11   3.48853817e-07\n",
      "    3.36982660e-08  -2.02587835e-04]\n",
      " [  2.17386533e-12   3.16174375e-08   3.65762753e-11   3.54571943e-07\n",
      "    3.30186367e-08  -2.05908947e-04]\n",
      " [  2.28077721e-12   3.26455799e-08   3.77656142e-11   3.60290043e-07\n",
      "    3.23279566e-08  -2.09230059e-04]\n",
      " [  2.39113757e-12   3.36901725e-08   3.89739799e-11   3.66008118e-07\n",
      "    3.16262256e-08  -2.12551171e-04]\n",
      " [  2.50500114e-12   3.47512155e-08   4.02013722e-11   3.71726167e-07\n",
      "    3.09134437e-08  -2.15872283e-04]\n",
      " [  2.62242267e-12   3.58287087e-08   4.14477911e-11   3.77444191e-07\n",
      "    3.01896109e-08  -2.19193395e-04]\n",
      " [  2.74345688e-12   3.69226521e-08   4.27132365e-11   3.83162189e-07\n",
      "    2.94547272e-08  -2.22514506e-04]\n",
      " [  2.86815851e-12   3.80330459e-08   4.39977082e-11   3.88880162e-07\n",
      "    2.87087927e-08  -2.25835618e-04]\n",
      " [  2.99658231e-12   3.91598899e-08   4.53012063e-11   3.94598109e-07\n",
      "    2.79518073e-08  -2.29156730e-04]\n",
      " [  3.12878302e-12   4.03031842e-08   4.66237306e-11   4.00316031e-07\n",
      "    2.71837709e-08  -2.32477842e-04]\n",
      " [  3.26481536e-12   4.14629288e-08   4.79652810e-11   4.06033928e-07\n",
      "    2.64046838e-08  -2.35798954e-04]\n",
      " [  3.40473407e-12   4.26391236e-08   4.93258575e-11   4.11751799e-07\n",
      "    2.56145457e-08  -2.39120066e-04]\n",
      " [  3.54859391e-12   4.38317688e-08   5.07054600e-11   4.17469644e-07\n",
      "    2.48133567e-08  -2.42441178e-04]\n",
      " [  3.69644959e-12   4.50408641e-08   5.21040883e-11   4.23187464e-07\n",
      "    2.40011169e-08  -2.45762290e-04]\n",
      " [  3.84835587e-12   4.62664098e-08   5.35217425e-11   4.28905259e-07\n",
      "    2.31778262e-08  -2.49083402e-04]\n",
      " [  4.00436747e-12   4.75084057e-08   5.49584223e-11   4.34623028e-07\n",
      "    2.23434846e-08  -2.52404513e-04]\n",
      " [  4.16453914e-12   4.87668519e-08   5.64141278e-11   4.40340772e-07\n",
      "    2.14980921e-08  -2.55725625e-04]\n",
      " [  4.32892561e-12   5.00417484e-08   5.78888589e-11   4.46058490e-07\n",
      "    2.06416488e-08  -2.59046737e-04]\n",
      " [  4.49758162e-12   5.13330952e-08   5.93826154e-11   4.51776183e-07\n",
      "    1.97741545e-08  -2.62367849e-04]\n",
      " [  4.67056191e-12   5.26408922e-08   6.08953973e-11   4.57493850e-07\n",
      "    1.88956094e-08  -2.65688961e-04]\n",
      " [  4.84792122e-12   5.39651395e-08   6.24272044e-11   4.63211492e-07\n",
      "    1.80060134e-08  -2.69010073e-04]\n",
      " [  5.02971428e-12   5.53058370e-08   6.39780368e-11   4.68929108e-07\n",
      "    1.71053665e-08  -2.72331185e-04]\n",
      " [  5.21599583e-12   5.66629849e-08   6.55478943e-11   4.74646699e-07\n",
      "    1.61936687e-08  -2.75652296e-04]\n",
      " [  5.40682061e-12   5.80365830e-08   6.71367769e-11   4.80364265e-07\n",
      "    1.52709201e-08  -2.78973408e-04]\n",
      " [  5.60224336e-12   5.94266313e-08   6.87446844e-11   4.86081805e-07\n",
      "    1.43371206e-08  -2.82294520e-04]\n",
      " [  5.80231881e-12   6.08331300e-08   7.03716168e-11   4.91799319e-07\n",
      "    1.33922702e-08  -2.85615632e-04]\n",
      " [  6.00710170e-12   6.22560789e-08   7.20175739e-11   4.97516808e-07\n",
      "    1.24363689e-08  -2.88936744e-04]\n",
      " [  6.21664678e-12   6.36954781e-08   7.36825558e-11   5.03234272e-07\n",
      "    1.14694167e-08  -2.92257855e-04]\n",
      " [  6.43100877e-12   6.51513275e-08   7.53665622e-11   5.08951710e-07\n",
      "    1.04914137e-08  -2.95578967e-04]\n",
      " [  6.65024242e-12   6.66236273e-08   7.70695932e-11   5.14669123e-07\n",
      "    9.50235972e-09  -2.98900079e-04]\n",
      " [  6.87440246e-12   6.81123773e-08   7.87916487e-11   5.20386510e-07\n",
      "    8.50225491e-09  -3.02221191e-04]\n",
      " [  7.10354363e-12   6.96175775e-08   8.05327285e-11   5.26103872e-07\n",
      "    7.49109921e-09  -3.05542302e-04]\n",
      " [  7.33772067e-12   7.11392281e-08   8.22928326e-11   5.31821208e-07\n",
      "    6.46889264e-09  -3.08863414e-04]\n",
      " [  7.57698832e-12   7.26773289e-08   8.40719608e-11   5.37538519e-07\n",
      "    5.43563518e-09  -3.12184526e-04]\n",
      " [  7.82140131e-12   7.42318799e-08   8.58701132e-11   5.43255805e-07\n",
      "    4.39132684e-09  -3.15505638e-04]\n",
      " [  8.07101439e-12   7.58028813e-08   8.76872896e-11   5.48973064e-07\n",
      "    3.33596763e-09  -3.18826749e-04]\n",
      " [  8.32588228e-12   7.73903329e-08   8.95234900e-11   5.54690299e-07\n",
      "    2.26955753e-09  -3.22147861e-04]\n",
      " [  8.58605973e-12   7.89942348e-08   9.13787142e-11   5.60407508e-07\n",
      "    1.19209655e-09  -3.25468973e-04]\n",
      " [  8.85160147e-12   8.06145869e-08   9.32529621e-11   5.66124692e-07\n",
      "    1.03584688e-10  -3.28790084e-04]]\n"
     ]
    }
   ],
   "source": [
    "y_sol = odeint(f_int, y_0, t)\n",
    "print(y_sol)"
   ]
  },
  {
   "cell_type": "code",
   "execution_count": 23,
   "metadata": {},
   "outputs": [
    {
     "data": {
      "image/png": "[encoded data removed]",
      "text/plain": [
       "<matplotlib.figure.Figure at 0x40912180b8>"
      ]
     },
     "metadata": {},
     "output_type": "display_data"
    },
    {
     "name": "stdout",
     "output_type": "stream",
     "text": [
      "0.000403720522499\n"
     ]
    }
   ],
   "source": [
    "plt.plot(t, y_sol[:, 1])\n",
    "\n",
    "plt.show()\n",
    "\n",
    "print(simps(y_sol[:,0],dx=0.001)*L)"
   ]
  },
  {
   "cell_type": "code",
   "execution_count": 22,
   "metadata": {},
   "outputs": [
    {
     "name": "stdout",
     "output_type": "stream",
     "text": [
      "8.85160147015e-12\n"
     ]
    }
   ],
   "source": [
    "print(y_sol[-1,0])"
   ]
  },
  {
   "cell_type": "code",
   "execution_count": null,
   "metadata": {
    "collapsed": true
   },
   "outputs": [],
   "source": []
  }
 ],
 "metadata": {
  "kernelspec": {
   "display_name": "Python 3",
   "language": "python",
   "name": "python3"
  },
  "language_info": {
   "codemirror_mode": {
    "name": "ipython",
    "version": 3
   },
   "file_extension": ".py",
   "mimetype": "text/x-python",
   "name": "python",
   "nbconvert_exporter": "python",
   "pygments_lexer": "ipython3",
   "version": "3.6.3"
  }
 },
 "nbformat": 4,
 "nbformat_minor": 2
}
