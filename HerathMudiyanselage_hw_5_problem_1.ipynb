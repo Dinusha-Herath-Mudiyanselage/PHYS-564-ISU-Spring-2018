{
 "cells": [
  {
   "cell_type": "markdown",
   "metadata": {},
   "source": [
    "First import numpy package and orbit_gravity_time class"
   ]
  },
  {
   "cell_type": "code",
   "execution_count": 22,
   "metadata": {
    "collapsed": true
   },
   "outputs": [],
   "source": [
    "import numpy as np\n",
    "import orbit_gravity_time as ot"
   ]
  },
  {
   "cell_type": "markdown",
   "metadata": {},
   "source": [
    "Next define semi major axis ,eccentricity of earth and create a object using the class"
   ]
  },
  {
   "cell_type": "code",
   "execution_count": 23,
   "metadata": {
    "collapsed": true
   },
   "outputs": [],
   "source": [
    "semi_major = 149.60e9 #semi major axis of earth in m\n",
    "excentricity = 0.0167 #eccentricity of earth\n",
    "ell = ot.OrbitGravity(excentricity)"
   ]
  },
  {
   "cell_type": "markdown",
   "metadata": {},
   "source": [
    "Lets find the period of earth in dimensionless units"
   ]
  },
  {
   "cell_type": "code",
   "execution_count": 24,
   "metadata": {},
   "outputs": [
    {
     "name": "stdout",
     "output_type": "stream",
     "text": [
      "The period of earth is 6.28581470012 in dimensionless units\n"
     ]
    }
   ],
   "source": [
    "print('The period of earth is', ell.period,'in dimensionless units')"
   ]
  },
  {
   "cell_type": "markdown",
   "metadata": {},
   "source": [
    "The number of days between January 3rd 2018 and January 3rd 2019 is 365. Lets define a time array with 365 line spaces. The diference between two concecutive values in the time array is eqaul to the time of a day in dimensionless units"
   ]
  },
  {
   "cell_type": "code",
   "execution_count": 25,
   "metadata": {
    "collapsed": true
   },
   "outputs": [],
   "source": [
    "time = np.linspace(0.0,ell.period,365)"
   ]
  },
  {
   "cell_type": "markdown",
   "metadata": {},
   "source": [
    "After 29 days from January 3rd 2018, February 1st will come.\n",
    "\n",
    "After 57 days from January 3rd 2018, March 1st will come.\n",
    "\n",
    "Simillary after 88 days April 1st, after 118 days May 1st, after 149 days June 1st, after 179 days July 1st,\n",
    "\n",
    "after  210 days August 1st,after days 241 September 1st,after days 271 October 1st,after 302 days November 1st,\n",
    "\n",
    "after 332 days  December 1st,after 363 days January 1st of 2019\n",
    "\n",
    "Now lets define a new time array with the time of above dates."
   ]
  },
  {
   "cell_type": "code",
   "execution_count": 26,
   "metadata": {
    "collapsed": true
   },
   "outputs": [],
   "source": [
    "time_new = [time[0],time[29],time[57],time[88],time[118],time[149],time[179],time[210]\n",
    "            ,time[241],time[271],time[302],time[332],time[363]]\n",
    "#this list has the time of dates January 3rd, February 1, March 1...so on up to January 1st 2019"
   ]
  },
  {
   "cell_type": "markdown",
   "metadata": {},
   "source": [
    "Finaly let's calclate the distance from sun to earth for each date on time_new array"
   ]
  },
  {
   "cell_type": "code",
   "execution_count": 27,
   "metadata": {},
   "outputs": [
    {
     "data": {
      "text/plain": [
       "array([ 0.98357431,  0.98568962,  0.99122446,  0.99969284,  1.00800567,\n",
       "        1.01442543,  1.01696196,  1.01512914,  1.00924349,  1.00113389,\n",
       "        0.99247906,  0.98613702,  0.98357688])"
      ]
     },
     "execution_count": 27,
     "metadata": {},
     "output_type": "execute_result"
    }
   ],
   "source": [
    "ell.coordinate(time_new)[1]"
   ]
  },
  {
   "cell_type": "markdown",
   "metadata": {},
   "source": [
    "The values will calculate according the formula\n",
    "\n",
    "$\\frac{1}{1+e^2cos(\\theta-\\theta_0)}$\n",
    "\n",
    "to get the real distance we need to multiply the above values by $a(1-e^2)$\n",
    "\n",
    "Now let's print the required values"
   ]
  },
  {
   "cell_type": "code",
   "execution_count": 21,
   "metadata": {},
   "outputs": [
    {
     "name": "stdout",
     "output_type": "stream",
     "text": [
      "The distance from earth to sun is 147101680000.0 m on January 3rd 2018\n",
      "The distance from earth to sun is 147418042329.0 m on February 1st 2018\n",
      "The distance from earth to sun is 148245822748.0 m on March 1st 2018\n",
      "The distance from earth to sun is 149512340012.0 m on April 1st 2018\n",
      "The distance from earth to sun is 150755592045.0 m on May 1st 2018\n",
      "The distance from earth to sun is 151715721085.0 m on June 1st 2018\n",
      "The distance from earth to sun is 152095080006.0 m on July 1st 2018\n",
      "The distance from earth to sun is 151820966754.0 m on August 1st 2018\n",
      "The distance from earth to sun is 150940718245.0 m on September 1st 2018\n",
      "The distance from earth to sun is 149727860877.0 m on October 1st 2018\n",
      "The distance from earth to sun is 148433459794.0 m on November 1st 2018\n",
      "The distance from earth to sun is 147484954776.0 m on December 1st 2018\n",
      "The distance from earth to sun is 147102064938.0 m on January 1st 2019\n"
     ]
    }
   ],
   "source": [
    "lst = ['January 3rd 2018', 'February 1st 2018','March 1st 2018','April 1st 2018','May 1st 2018',\n",
    "       'June 1st 2018','July 1st 2018','August 1st 2018','September 1st 2018','October 1st 2018'\n",
    "       ,'November 1st 2018','December 1st 2018','January 1st 2019']\n",
    "\n",
    "for ind,ls in enumerate (lst):\n",
    "    print('The distance from earth to sun is',ell.coordinate(time_new)[1][ind]*semi_major*(1-excentricity**2)\n",
    "         ,'m on',ls)\n"
   ]
  },
  {
   "cell_type": "code",
   "execution_count": null,
   "metadata": {
    "collapsed": true
   },
   "outputs": [],
   "source": []
  }
 ],
 "metadata": {
  "kernelspec": {
   "display_name": "Python 3",
   "language": "python",
   "name": "python3"
  },
  "language_info": {
   "codemirror_mode": {
    "name": "ipython",
    "version": 3
   },
   "file_extension": ".py",
   "mimetype": "text/x-python",
   "name": "python",
   "nbconvert_exporter": "python",
   "pygments_lexer": "ipython3",
   "version": "3.6.3"
  }
 },
 "nbformat": 4,
 "nbformat_minor": 2
}
