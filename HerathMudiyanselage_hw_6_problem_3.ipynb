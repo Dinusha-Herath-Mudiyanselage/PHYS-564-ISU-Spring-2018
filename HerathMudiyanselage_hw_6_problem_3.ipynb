{
 "cells": [
  {
   "cell_type": "markdown",
   "metadata": {},
   "source": [
    "For this problem the principle axis is  same as the axis where we measure $I_3$ . The axis which goes through the center of cone. "
   ]
  },
  {
   "cell_type": "markdown",
   "metadata": {},
   "source": [
    "In the problem it is given that $\\vec{\\omega}=-cot(\\alpha)\\Omega \\hat x$ and $\\vec{\\Omega}=\\Omega\\hat z$"
   ]
  },
  {
   "cell_type": "markdown",
   "metadata": {},
   "source": [
    "Let's form the body coordinates by rotating the space frame through fixed $y$ axis by an angle $\\alpha$ counter clockwise"
   ]
  },
  {
   "cell_type": "markdown",
   "metadata": {},
   "source": [
    "so in space  coordinates $\\hat x=cos(\\alpha)\\hat x'-sin(\\alpha)\\hat z'$\n",
    "\n",
    "and $\\hat z=sin(\\alpha)\\hat x'+cos(\\alpha)\\hat z'$"
   ]
  },
  {
   "cell_type": "markdown",
   "metadata": {},
   "source": [
    "So now we can write $\\omega$ and $\\Omega$ in body coordinates as"
   ]
  },
  {
   "cell_type": "markdown",
   "metadata": {},
   "source": [
    "$\\vec{\\omega}=-cot(\\alpha)\\Omega [ cos(\\alpha)\\hat x'-sin(\\alpha)\\hat z']= -\\frac{cos^2(\\alpha)}{sin(\\alpha)}\\Omega \\hat x'+cos(\\alpha)\\Omega \\hat z'$\n",
    "\n",
    "$\\vec{\\Omega}=\\Omega[sin(\\alpha)\\hat x'+cos(\\alpha)\\hat z']$"
   ]
  },
  {
   "cell_type": "markdown",
   "metadata": {},
   "source": [
    "The angular momentum in the body frame $\\vec {L}= \\vec{L_{x'}}+\\vec{L_{y'}}=L_{x'}\\hat x'+L_{y'} \\hat z'$"
   ]
  },
  {
   "cell_type": "markdown",
   "metadata": {},
   "source": [
    "$L_{x'}=I_3(-\\frac{cos^2(\\alpha)}{sin(\\alpha)}\\Omega)$\n",
    "\n",
    "$L_{z'}=Icos(\\alpha)\\Omega$\n",
    "\n",
    "For a cone $I_3= \\frac{3Mr^2}{10}$  \n",
    "\n",
    "and $I=\\frac{3M}{20}(r^2+4L^2)$ whre r is the radius of the base \n",
    "\n",
    "But $ r= Ltan(\\alpha)$ Hence $I_3=\\frac{3ML^2tan^2(\\alpha)}{10}$   and   $I=\\frac{3M}{20}(L^2tan^2(\\alpha)+4L^2)=\\frac{3ML^2}{20}(tan^2(\\alpha)+4)$\n",
    "\n",
    "Now $L_{x'}=\\frac{-3ML^2}{10}sin(\\alpha)\\Omega$\n",
    "\n",
    "$L_{z'}=\\frac{3ML^2}{20}(\\frac{1}{cos^2(\\alpha)}+3)\\Omega$\n",
    "\n",
    "Angular momentum in body coordinates $\\vec {L}=\\frac{-3ML^2}{10}sin(\\alpha)\\Omega\\hat x'+\\frac{3ML^2}{20}(\\frac{1}{cos^2(\\alpha)}+3)\\Omega \\hat z'$"
   ]
  },
  {
   "cell_type": "markdown",
   "metadata": {},
   "source": [
    "Now $(\\frac{dL}{dt})_b=\\frac{-3ML^2}{10}sin(\\alpha)[\\frac{d\\Omega}{dt}\\hat x'+\\frac{d\\hat x'}{dt}\\Omega]+\\frac{3ML^2}{20}(\\frac{1}{cos^2(\\alpha)}+3)[\\frac{d\\Omega}{dt}\\hat z'+\\frac{d\\hat z'}{dt}\\Omega]$"
   ]
  },
  {
   "cell_type": "markdown",
   "metadata": {},
   "source": [
    "If $\\Omega$ is constant in time the above equation reduces to\n",
    "\n",
    "$(\\frac{dL}{dt})_b=\\frac{-3ML^2}{10}sin(\\alpha)\\frac{d\\hat x'}{dt}\\Omega+\\frac{3ML^2}{20}(\\frac{1}{cos^2(\\alpha)}+3)\\frac{d\\hat z'}{dt}\\Omega$"
   ]
  },
  {
   "cell_type": "markdown",
   "metadata": {},
   "source": [
    "Now $(\\frac{dA}{dt})_s=(\\frac{dA}{dt})_b +\\Omega \\times \\vec{A}$\n",
    "\n",
    "If A on body frame do not explicitly depend on time then the eqaution reduces to \n",
    "\n",
    "$(\\frac{dA}{dt})_s=\\Omega \\times \\vec{A}$"
   ]
  },
  {
   "cell_type": "markdown",
   "metadata": {},
   "source": [
    "Now in the above equation $\\frac{d\\hat x'}{dt}=v_{x'}$ and $\\frac{d\\hat z'}{dt}=v_{z'}$"
   ]
  },
  {
   "cell_type": "markdown",
   "metadata": {},
   "source": [
    "So $\\Omega \\times L = \\Omega \\times I_3\\omega_{x'}+\\Omega \\times I \\omega_{z'}$"
   ]
  },
  {
   "cell_type": "markdown",
   "metadata": {},
   "source": [
    "$\\tau=I\\frac{d\\omega}{dt}=\\frac{Mg\\frac{3}{4}L cos(\\alpha)}{\\Omega}$"
   ]
  },
  {
   "cell_type": "markdown",
   "metadata": {},
   "source": [
    "Now"
   ]
  },
  {
   "cell_type": "markdown",
   "metadata": {
    "collapsed": true
   },
   "source": [
    "$\\tau=\\frac{Mg\\frac{3}{4}L cos(\\alpha)}\\Omega$ in units of MgL\n",
    "\n",
    "$\\tau=\\frac{3 cos(\\alpha)}{4\\Omega }$ Lets assume $\\alpha= \\pi/3$ "
   ]
  },
  {
   "cell_type": "code",
   "execution_count": 1,
   "metadata": {
    "collapsed": true
   },
   "outputs": [],
   "source": [
    "import numpy as np\n",
    "import matplotlib.pyplot as plt"
   ]
  },
  {
   "cell_type": "code",
   "execution_count": 5,
   "metadata": {},
   "outputs": [],
   "source": [
    "omega=np.linspace(0.01,2*np.pi,100)\n",
    "tau = (3*np.cos(np.pi/3))/(4*omega)"
   ]
  },
  {
   "cell_type": "code",
   "execution_count": 7,
   "metadata": {},
   "outputs": [
    {
     "data": {
      "image/png": "[encoded data removed]",
      "text/plain": [
       "<matplotlib.figure.Figure at 0xaf98734390>"
      ]
     },
     "metadata": {},
     "output_type": "display_data"
    }
   ],
   "source": [
    "plt.plot(tau,omega)\n",
    "plt.show()"
   ]
  },
  {
   "cell_type": "markdown",
   "metadata": {},
   "source": [
    "At large $\\Omega$ the torque goes to zero, so we can have torque free motion for large values of $\\Omega$"
   ]
  },
  {
   "cell_type": "code",
   "execution_count": null,
   "metadata": {
    "collapsed": true
   },
   "outputs": [],
   "source": []
  }
 ],
 "metadata": {
  "kernelspec": {
   "display_name": "Python 3",
   "language": "python",
   "name": "python3"
  },
  "language_info": {
   "codemirror_mode": {
    "name": "ipython",
    "version": 3
   },
   "file_extension": ".py",
   "mimetype": "text/x-python",
   "name": "python",
   "nbconvert_exporter": "python",
   "pygments_lexer": "ipython3",
   "version": "3.6.3"
  }
 },
 "nbformat": 4,
 "nbformat_minor": 2
}
